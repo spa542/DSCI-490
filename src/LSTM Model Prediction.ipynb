{
 "cells": [
  {
   "cell_type": "markdown",
   "id": "957f8572",
   "metadata": {},
   "source": [
    "# Getting bitcoin price data from investing.com data sheet\n"
   ]
  },
  {
   "cell_type": "code",
   "execution_count": 1,
   "id": "83dd3561",
   "metadata": {},
   "outputs": [],
   "source": [
    "import pandas as pd\n",
    "import matplotlib.pyplot as plt\n",
    "import numpy as np\n",
    "import seaborn as sns\n",
    "import torch\n",
    "from torch.autograd import Variable"
   ]
  },
  {
   "cell_type": "code",
   "execution_count": 2,
   "id": "927fbc91",
   "metadata": {},
   "outputs": [
    {
     "name": "stdout",
     "output_type": "stream",
     "text": [
      "               Price      Open      High       Low    Vol. Change %\n",
      "Date                                                               \n",
      "2022-02-15  43,605.3  42,550.3  43,658.8  42,460.1  56.13K    2.48%\n",
      "2022-02-14  42,550.3  42,061.1  42,799.7  41,591.3  53.60K    1.16%\n",
      "2022-02-13  42,061.1  42,205.5  42,725.1  41,880.1  25.88K   -0.34%\n",
      "2022-02-12  42,205.2  42,388.4  43,006.4  41,776.8  37.88K   -0.43%\n",
      "2022-02-11  42,388.4  43,519.3  43,915.1  42,023.4  69.95K   -2.60%\n",
      "...              ...       ...       ...       ...     ...      ...\n",
      "2015-11-19     325.0     335.9     335.6     323.4  86.38K   -3.26%\n",
      "2015-11-18     335.9     333.9     337.4     329.4  78.36K    0.60%\n",
      "2015-11-17     333.9     330.2     342.9     328.1  98.25K    1.12%\n",
      "2015-11-16     330.2     317.5     332.0     314.1  87.14K    4.02%\n",
      "2015-11-15     317.5     331.8     334.8     314.2  88.32K   -4.32%\n",
      "\n",
      "[2285 rows x 6 columns]\n"
     ]
    }
   ],
   "source": [
    "df = pd.read_csv(r'../Datasets/BitcoinData.csv', index_col='Date', parse_dates=True)   #read the csv file (put 'r' before the path string to address any special characters in the path, such as '\\'). Don't forget to put the file name at the end of the path + \".csv\"\n",
    "print(df)"
   ]
  },
  {
   "cell_type": "code",
   "execution_count": 3,
   "id": "f76580f5",
   "metadata": {},
   "outputs": [
    {
     "data": {
      "text/plain": [
       "Price       object\n",
       "Open        object\n",
       "High        object\n",
       "Low         object\n",
       "Vol.        object\n",
       "Change %    object\n",
       "dtype: object"
      ]
     },
     "execution_count": 3,
     "metadata": {},
     "output_type": "execute_result"
    }
   ],
   "source": [
    "df.dtypes"
   ]
  },
  {
   "cell_type": "code",
   "execution_count": 4,
   "id": "264681d1",
   "metadata": {},
   "outputs": [],
   "source": [
    "cleanData = df\n",
    "\n",
    "repl_dict = {'[kK]': '*1e3', '[mM]': '*1e6', '[bB]': '*1e9', }\n",
    "cleanData['Vol.'] = cleanData['Vol.'].replace(repl_dict, regex=True).map(pd.eval).astype(float)\n",
    "\n",
    "cleanData['Price'] = cleanData['Price'].astype(str).str.replace(',', '').astype(float)\n",
    "cleanData['Open'] = cleanData['Open'].astype(str).str.replace(',', '').astype(float)\n",
    "cleanData['High'] = cleanData['High'].astype(str).str.replace(',', '').astype(float)\n",
    "cleanData['Low'] = cleanData['Low'].astype(str).str.replace(',', '').astype(float)\n",
    "cleanData['Change %'] = cleanData['Change %'].astype(str).str.replace('%', '').astype(float)\n"
   ]
  },
  {
   "cell_type": "code",
   "execution_count": 5,
   "id": "9f8fd427",
   "metadata": {},
   "outputs": [
    {
     "data": {
      "text/html": [
       "<div>\n",
       "<style scoped>\n",
       "    .dataframe tbody tr th:only-of-type {\n",
       "        vertical-align: middle;\n",
       "    }\n",
       "\n",
       "    .dataframe tbody tr th {\n",
       "        vertical-align: top;\n",
       "    }\n",
       "\n",
       "    .dataframe thead th {\n",
       "        text-align: right;\n",
       "    }\n",
       "</style>\n",
       "<table border=\"1\" class=\"dataframe\">\n",
       "  <thead>\n",
       "    <tr style=\"text-align: right;\">\n",
       "      <th></th>\n",
       "      <th>Price</th>\n",
       "      <th>Open</th>\n",
       "      <th>High</th>\n",
       "      <th>Low</th>\n",
       "      <th>Vol.</th>\n",
       "      <th>Change %</th>\n",
       "    </tr>\n",
       "  </thead>\n",
       "  <tbody>\n",
       "    <tr>\n",
       "      <th>count</th>\n",
       "      <td>2285.000000</td>\n",
       "      <td>2285.000000</td>\n",
       "      <td>2285.000000</td>\n",
       "      <td>2285.000000</td>\n",
       "      <td>2.285000e+03</td>\n",
       "      <td>2285.000000</td>\n",
       "    </tr>\n",
       "    <tr>\n",
       "      <th>mean</th>\n",
       "      <td>13303.703720</td>\n",
       "      <td>13284.855011</td>\n",
       "      <td>13662.048709</td>\n",
       "      <td>12862.238293</td>\n",
       "      <td>4.889052e+05</td>\n",
       "      <td>0.293527</td>\n",
       "    </tr>\n",
       "    <tr>\n",
       "      <th>std</th>\n",
       "      <td>16723.975876</td>\n",
       "      <td>16714.244909</td>\n",
       "      <td>17178.001115</td>\n",
       "      <td>16180.627018</td>\n",
       "      <td>1.275485e+06</td>\n",
       "      <td>3.973664</td>\n",
       "    </tr>\n",
       "    <tr>\n",
       "      <th>min</th>\n",
       "      <td>317.500000</td>\n",
       "      <td>317.500000</td>\n",
       "      <td>323.300000</td>\n",
       "      <td>309.500000</td>\n",
       "      <td>2.600000e+02</td>\n",
       "      <td>-39.180000</td>\n",
       "    </tr>\n",
       "    <tr>\n",
       "      <th>25%</th>\n",
       "      <td>2362.400000</td>\n",
       "      <td>2344.000000</td>\n",
       "      <td>2494.000000</td>\n",
       "      <td>2263.300000</td>\n",
       "      <td>6.692000e+04</td>\n",
       "      <td>-1.290000</td>\n",
       "    </tr>\n",
       "    <tr>\n",
       "      <th>50%</th>\n",
       "      <td>7366.700000</td>\n",
       "      <td>7363.800000</td>\n",
       "      <td>7535.600000</td>\n",
       "      <td>7185.700000</td>\n",
       "      <td>1.326000e+05</td>\n",
       "      <td>0.220000</td>\n",
       "    </tr>\n",
       "    <tr>\n",
       "      <th>75%</th>\n",
       "      <td>11506.900000</td>\n",
       "      <td>11503.200000</td>\n",
       "      <td>11823.300000</td>\n",
       "      <td>11226.100000</td>\n",
       "      <td>4.881600e+05</td>\n",
       "      <td>1.910000</td>\n",
       "    </tr>\n",
       "    <tr>\n",
       "      <th>max</th>\n",
       "      <td>67527.900000</td>\n",
       "      <td>67528.700000</td>\n",
       "      <td>68990.600000</td>\n",
       "      <td>66334.900000</td>\n",
       "      <td>2.026000e+07</td>\n",
       "      <td>25.560000</td>\n",
       "    </tr>\n",
       "  </tbody>\n",
       "</table>\n",
       "</div>"
      ],
      "text/plain": [
       "              Price          Open          High           Low          Vol.  \\\n",
       "count   2285.000000   2285.000000   2285.000000   2285.000000  2.285000e+03   \n",
       "mean   13303.703720  13284.855011  13662.048709  12862.238293  4.889052e+05   \n",
       "std    16723.975876  16714.244909  17178.001115  16180.627018  1.275485e+06   \n",
       "min      317.500000    317.500000    323.300000    309.500000  2.600000e+02   \n",
       "25%     2362.400000   2344.000000   2494.000000   2263.300000  6.692000e+04   \n",
       "50%     7366.700000   7363.800000   7535.600000   7185.700000  1.326000e+05   \n",
       "75%    11506.900000  11503.200000  11823.300000  11226.100000  4.881600e+05   \n",
       "max    67527.900000  67528.700000  68990.600000  66334.900000  2.026000e+07   \n",
       "\n",
       "          Change %  \n",
       "count  2285.000000  \n",
       "mean      0.293527  \n",
       "std       3.973664  \n",
       "min     -39.180000  \n",
       "25%      -1.290000  \n",
       "50%       0.220000  \n",
       "75%       1.910000  \n",
       "max      25.560000  "
      ]
     },
     "execution_count": 5,
     "metadata": {},
     "output_type": "execute_result"
    }
   ],
   "source": [
    "cleanData.describe()"
   ]
  },
  {
   "cell_type": "code",
   "execution_count": 6,
   "id": "7932cec5",
   "metadata": {},
   "outputs": [
    {
     "name": "stdout",
     "output_type": "stream",
     "text": [
      "<class 'pandas.core.frame.DataFrame'>\n",
      "DatetimeIndex: 2285 entries, 2022-02-15 to 2015-11-15\n",
      "Data columns (total 6 columns):\n",
      " #   Column    Non-Null Count  Dtype  \n",
      "---  ------    --------------  -----  \n",
      " 0   Price     2285 non-null   float64\n",
      " 1   Open      2285 non-null   float64\n",
      " 2   High      2285 non-null   float64\n",
      " 3   Low       2285 non-null   float64\n",
      " 4   Vol.      2285 non-null   float64\n",
      " 5   Change %  2285 non-null   float64\n",
      "dtypes: float64(6)\n",
      "memory usage: 125.0 KB\n"
     ]
    }
   ],
   "source": [
    "cleanData.info()"
   ]
  },
  {
   "cell_type": "code",
   "execution_count": 7,
   "id": "65b933fd",
   "metadata": {},
   "outputs": [
    {
     "data": {
      "text/html": [
       "<div>\n",
       "<style scoped>\n",
       "    .dataframe tbody tr th:only-of-type {\n",
       "        vertical-align: middle;\n",
       "    }\n",
       "\n",
       "    .dataframe tbody tr th {\n",
       "        vertical-align: top;\n",
       "    }\n",
       "\n",
       "    .dataframe thead th {\n",
       "        text-align: right;\n",
       "    }\n",
       "</style>\n",
       "<table border=\"1\" class=\"dataframe\">\n",
       "  <thead>\n",
       "    <tr style=\"text-align: right;\">\n",
       "      <th></th>\n",
       "      <th>Price</th>\n",
       "      <th>Open</th>\n",
       "      <th>High</th>\n",
       "      <th>Low</th>\n",
       "      <th>Vol.</th>\n",
       "      <th>Change %</th>\n",
       "    </tr>\n",
       "    <tr>\n",
       "      <th>Date</th>\n",
       "      <th></th>\n",
       "      <th></th>\n",
       "      <th></th>\n",
       "      <th></th>\n",
       "      <th></th>\n",
       "      <th></th>\n",
       "    </tr>\n",
       "  </thead>\n",
       "  <tbody>\n",
       "    <tr>\n",
       "      <th>2022-02-15</th>\n",
       "      <td>43605.3</td>\n",
       "      <td>42550.3</td>\n",
       "      <td>43658.8</td>\n",
       "      <td>42460.1</td>\n",
       "      <td>56130.0</td>\n",
       "      <td>2.48</td>\n",
       "    </tr>\n",
       "    <tr>\n",
       "      <th>2022-02-14</th>\n",
       "      <td>42550.3</td>\n",
       "      <td>42061.1</td>\n",
       "      <td>42799.7</td>\n",
       "      <td>41591.3</td>\n",
       "      <td>53600.0</td>\n",
       "      <td>1.16</td>\n",
       "    </tr>\n",
       "    <tr>\n",
       "      <th>2022-02-13</th>\n",
       "      <td>42061.1</td>\n",
       "      <td>42205.5</td>\n",
       "      <td>42725.1</td>\n",
       "      <td>41880.1</td>\n",
       "      <td>25880.0</td>\n",
       "      <td>-0.34</td>\n",
       "    </tr>\n",
       "    <tr>\n",
       "      <th>2022-02-12</th>\n",
       "      <td>42205.2</td>\n",
       "      <td>42388.4</td>\n",
       "      <td>43006.4</td>\n",
       "      <td>41776.8</td>\n",
       "      <td>37880.0</td>\n",
       "      <td>-0.43</td>\n",
       "    </tr>\n",
       "    <tr>\n",
       "      <th>2022-02-11</th>\n",
       "      <td>42388.4</td>\n",
       "      <td>43519.3</td>\n",
       "      <td>43915.1</td>\n",
       "      <td>42023.4</td>\n",
       "      <td>69950.0</td>\n",
       "      <td>-2.60</td>\n",
       "    </tr>\n",
       "  </tbody>\n",
       "</table>\n",
       "</div>"
      ],
      "text/plain": [
       "              Price     Open     High      Low     Vol.  Change %\n",
       "Date                                                             \n",
       "2022-02-15  43605.3  42550.3  43658.8  42460.1  56130.0      2.48\n",
       "2022-02-14  42550.3  42061.1  42799.7  41591.3  53600.0      1.16\n",
       "2022-02-13  42061.1  42205.5  42725.1  41880.1  25880.0     -0.34\n",
       "2022-02-12  42205.2  42388.4  43006.4  41776.8  37880.0     -0.43\n",
       "2022-02-11  42388.4  43519.3  43915.1  42023.4  69950.0     -2.60"
      ]
     },
     "execution_count": 7,
     "metadata": {},
     "output_type": "execute_result"
    }
   ],
   "source": [
    "cleanData.head()"
   ]
  },
  {
   "cell_type": "code",
   "execution_count": 33,
   "id": "15075303",
   "metadata": {},
   "outputs": [
    {
     "data": {
      "image/png": "[encoded data removed]",
      "text/plain": [
       "<Figure size 432x288 with 1 Axes>"
      ]
     },
     "metadata": {
      "needs_background": "light"
     },
     "output_type": "display_data"
    }
   ],
   "source": [
    "plt.plot(cleanData.Price)\n",
    "plt.title('Bitcoin Price Over Time')\n",
    "plt.xlabel('Date')\n",
    "plt.ylabel('Price')\n",
    "plt.show()"
   ]
  },
  {
   "cell_type": "markdown",
   "id": "72711b8f",
   "metadata": {},
   "source": [
    "# Adding neural net example using LSTM regression and "
   ]
  },
  {
   "cell_type": "code",
   "execution_count": 9,
   "id": "9b48f1a3",
   "metadata": {},
   "outputs": [
    {
     "data": {
      "text/plain": [
       "((2285, 5), (2285,))"
      ]
     },
     "execution_count": 9,
     "metadata": {},
     "output_type": "execute_result"
    }
   ],
   "source": [
    "# Our predictors will consist of everything but the price\n",
    "# The target y, will be the values of price, the predictors will be the dataframe without the Price column\n",
    "X, y = cleanData.drop(columns=['Price']), cleanData.Price.values\n",
    "X.shape, y.shape"
   ]
  },
  {
   "cell_type": "code",
   "execution_count": 10,
   "id": "a03acab1",
   "metadata": {},
   "outputs": [],
   "source": [
    "# Here we will perform unit variance scaling required for pytorch neural networks\n",
    "from sklearn.preprocessing import StandardScaler, MinMaxScaler\n",
    "mm = MinMaxScaler()\n",
    "ss = StandardScaler()\n",
    "\n",
    "X_trans = ss.fit_transform(X)\n",
    "y_trans = mm.fit_transform(y.reshape(-1, 1))"
   ]
  },
  {
   "cell_type": "code",
   "execution_count": 11,
   "id": "44e01247",
   "metadata": {},
   "outputs": [],
   "source": [
    "# We want to get the first N amount of days and then the next H amount of days that follow\n",
    "# This requires getting x amount of samples from X and looking at the next 50 indices of y, and patching\n",
    "# these together. Because of this, we will throwout the first 50 values of y.\n",
    "def split_sequences(input_sequences, output_sequence, n_steps_in, n_steps_out):\n",
    "    X, y = list(), list() # instantiate X and y\n",
    "    for i in range(len(input_sequences)):\n",
    "        # find the end of the input, output sequence\n",
    "        end_ix = i + n_steps_in\n",
    "        out_end_ix = end_ix + n_steps_out - 1\n",
    "        # check if we are beyond the dataset\n",
    "        if out_end_ix > len(input_sequences): break\n",
    "        # gather input and output of the pattern\n",
    "        seq_x, seq_y = input_sequences[i:end_ix], output_sequence[end_ix-1:out_end_ix, -1]\n",
    "        X.append(seq_x), y.append(seq_y)\n",
    "    return np.array(X), np.array(y)"
   ]
  },
  {
   "cell_type": "code",
   "execution_count": 12,
   "id": "bf374eaa",
   "metadata": {},
   "outputs": [
    {
     "name": "stdout",
     "output_type": "stream",
     "text": [
      "(2137, 100, 5) (2137, 50)\n"
     ]
    }
   ],
   "source": [
    "# In this case, I am taking 100 samples of X, and the following 50 indices of y\n",
    "X_ss, y_mm = split_sequences(X_trans, y_trans, 100, 50)\n",
    "print(X_ss.shape, y_mm.shape)"
   ]
  },
  {
   "cell_type": "code",
   "execution_count": 13,
   "id": "9e501474",
   "metadata": {},
   "outputs": [
    {
     "data": {
      "text/plain": [
       "array([1.        , 0.93669581, 0.91007344, 0.90249128, 0.90901259,\n",
       "       0.93141835, 0.93592956, 0.90161344, 0.90748009, 0.91537322,\n",
       "       0.92136485, 0.89666183, 0.86475605, 0.8926193 , 0.93362783,\n",
       "       0.90088736, 0.90752324, 0.89826574, 0.9208798 , 0.97695595,\n",
       "       0.95165332, 0.91858998, 0.91072215, 0.90080702, 0.91287955,\n",
       "       0.8485041 , 0.84901444, 0.82871698, 0.85046064, 0.80895516,\n",
       "       0.81274624, 0.79745397, 0.79550784, 0.81841054, 0.76106972,\n",
       "       0.72771178, 0.71242843, 0.70449514, 0.7116235 , 0.64730756,\n",
       "       0.61328753, 0.60563246, 0.62274737, 0.63808428, 0.63039797,\n",
       "       0.63237832, 0.66286914, 0.64326503, 0.60011248, 0.63313267])"
      ]
     },
     "execution_count": 13,
     "metadata": {},
     "output_type": "execute_result"
    }
   ],
   "source": [
    "y_mm[0]"
   ]
  },
  {
   "cell_type": "code",
   "execution_count": 14,
   "id": "1887cd56",
   "metadata": {},
   "outputs": [
    {
     "data": {
      "text/plain": [
       "array([1.        , 0.93669581, 0.91007344, 0.90249128, 0.90901259,\n",
       "       0.93141835, 0.93592956, 0.90161344, 0.90748009, 0.91537322,\n",
       "       0.92136485, 0.89666183, 0.86475605, 0.8926193 , 0.93362783,\n",
       "       0.90088736, 0.90752324, 0.89826574, 0.9208798 , 0.97695595,\n",
       "       0.95165332, 0.91858998, 0.91072215, 0.90080702, 0.91287955,\n",
       "       0.8485041 , 0.84901444, 0.82871698, 0.85046064, 0.80895516,\n",
       "       0.81274624, 0.79745397, 0.79550784, 0.81841054, 0.76106972,\n",
       "       0.72771178, 0.71242843, 0.70449514, 0.7116235 , 0.64730756,\n",
       "       0.61328753, 0.60563246, 0.62274737, 0.63808428, 0.63039797,\n",
       "       0.63237832, 0.66286914, 0.64326503, 0.60011248, 0.63313267])"
      ]
     },
     "execution_count": 14,
     "metadata": {},
     "output_type": "execute_result"
    }
   ],
   "source": [
    "y_trans[99:149].squeeze(1)"
   ]
  },
  {
   "cell_type": "code",
   "execution_count": 15,
   "id": "9d6a784e",
   "metadata": {},
   "outputs": [],
   "source": [
    "assert y_mm[0].all() == y_trans[99:149].squeeze(1).all()"
   ]
  },
  {
   "cell_type": "code",
   "execution_count": 16,
   "id": "db10374e",
   "metadata": {},
   "outputs": [],
   "source": [
    "# We want to predict data several months or so in the future, here we will set the training data size at 85%\n",
    "# and the remaining 15% can be used for testing data\n",
    "total_samples = len(X)\n",
    "train_test_cutoff = round(0.85 * total_samples) # TRAIN/TEST split cutoff\n",
    "\n",
    "X_train = X_ss[:-150]\n",
    "X_test = X_ss[-150:]\n",
    "\n",
    "y_train = y_mm[:-150]\n",
    "y_test = y_mm[-150:]"
   ]
  },
  {
   "cell_type": "code",
   "execution_count": 17,
   "id": "7941a3fa",
   "metadata": {},
   "outputs": [
    {
     "name": "stdout",
     "output_type": "stream",
     "text": [
      "Training Shape: (1987, 100, 5) (1987, 50)\n",
      "Testing Shape: (150, 100, 5) (150, 50)\n"
     ]
    }
   ],
   "source": [
    "print(\"Training Shape:\", X_train.shape, y_train.shape)\n",
    "print(\"Testing Shape:\", X_test.shape, y_test.shape) "
   ]
  },
  {
   "cell_type": "code",
   "execution_count": 18,
   "id": "9f3bca31",
   "metadata": {},
   "outputs": [],
   "source": [
    "# Now we need to convert our test and training sets into tensors, which are like numpy arrays but are used\n",
    "# in pytorch\n",
    "X_train_tensors = Variable(torch.Tensor(X_train))\n",
    "X_test_tensors = Variable(torch.Tensor(X_test))\n",
    "\n",
    "y_train_tensors = Variable(torch.Tensor(y_train))\n",
    "y_test_tensors = Variable(torch.Tensor(y_test))"
   ]
  },
  {
   "cell_type": "code",
   "execution_count": 19,
   "id": "7c43dd98",
   "metadata": {},
   "outputs": [],
   "source": [
    "# Here we will use the LSTM NN for our prediction algorithm. The input shape of the data depends on whether\n",
    "# batch_first is true or not. Here, we will set it to be true, meaning the size of the input is (N, L, Hin),\n",
    "# where N is the batch size, L is the sequence length, and Hin is the input size (number of features). In other\n",
    "# words, we want the dimensions to be the rows of the dataframe in the first dimension, followed by the length of\n",
    "# the dataframe in the second dimension, and finally the features (in which we have 5) in the final dimension.\n",
    "X_train_tensors_final = torch.reshape(X_train_tensors,   \n",
    "                                      (X_train_tensors.shape[0], 100, \n",
    "                                       X_train_tensors.shape[2]))\n",
    "X_test_tensors_final = torch.reshape(X_test_tensors,  \n",
    "                                     (X_test_tensors.shape[0], 100, \n",
    "                                      X_test_tensors.shape[2]))"
   ]
  },
  {
   "cell_type": "code",
   "execution_count": 20,
   "id": "cd4f2930",
   "metadata": {},
   "outputs": [
    {
     "name": "stdout",
     "output_type": "stream",
     "text": [
      "Training Shape: torch.Size([1987, 100, 5]) torch.Size([1987, 50])\n",
      "Testing Shape: torch.Size([150, 100, 5]) torch.Size([150, 50])\n"
     ]
    }
   ],
   "source": [
    "print(\"Training Shape:\", X_train_tensors_final.shape, y_train_tensors.shape)\n",
    "print(\"Testing Shape:\", X_test_tensors_final.shape, y_test_tensors.shape) "
   ]
  },
  {
   "cell_type": "code",
   "execution_count": 21,
   "id": "573bbeb1",
   "metadata": {},
   "outputs": [
    {
     "data": {
      "text/plain": [
       "array([[ 4.203e+02,  4.224e+02,  4.181e+02,  3.639e+04,  2.800e-01],\n",
       "       [ 4.180e+02,  4.216e+02,  4.167e+02,  2.330e+04,  5.300e-01],\n",
       "       [ 4.177e+02,  4.189e+02,  4.124e+02,  2.943e+04,  9.000e-02],\n",
       "       [ 4.201e+02,  4.235e+02,  4.155e+02,  4.695e+04, -5.800e-01]])"
      ]
     },
     "execution_count": 21,
     "metadata": {},
     "output_type": "execute_result"
    }
   ],
   "source": [
    "# Lastly, we want to check the data logic of the test set. We want to predict 50 timesteps into the future with \n",
    "# Bitcoin. Based on split_sequence() above, we simply need to add the last sample of 100 days to X_test, run the \n",
    "# model on it, and compare these predictions with the last 50 days of y_test, these correspond to a period of 100\n",
    "# days in X_test's last sample, proceeded immediately by the next 50 days in the last sample of y_test\n",
    "# HERE, we want to check that the last 50 samples that we will be predicting match the last 50 values of y \n",
    "# in the test set\n",
    "X_check, y_check = split_sequences(X, y.reshape(-1, 1), 100, 50)\n",
    "X_check[-1][0:4]"
   ]
  },
  {
   "cell_type": "code",
   "execution_count": 22,
   "id": "adb46167",
   "metadata": {},
   "outputs": [
    {
     "data": {
      "text/html": [
       "<div>\n",
       "<style scoped>\n",
       "    .dataframe tbody tr th:only-of-type {\n",
       "        vertical-align: middle;\n",
       "    }\n",
       "\n",
       "    .dataframe tbody tr th {\n",
       "        vertical-align: top;\n",
       "    }\n",
       "\n",
       "    .dataframe thead th {\n",
       "        text-align: right;\n",
       "    }\n",
       "</style>\n",
       "<table border=\"1\" class=\"dataframe\">\n",
       "  <thead>\n",
       "    <tr style=\"text-align: right;\">\n",
       "      <th></th>\n",
       "      <th>Open</th>\n",
       "      <th>High</th>\n",
       "      <th>Low</th>\n",
       "      <th>Vol.</th>\n",
       "      <th>Change %</th>\n",
       "    </tr>\n",
       "    <tr>\n",
       "      <th>Date</th>\n",
       "      <th></th>\n",
       "      <th></th>\n",
       "      <th></th>\n",
       "      <th></th>\n",
       "      <th></th>\n",
       "    </tr>\n",
       "  </thead>\n",
       "  <tbody>\n",
       "    <tr>\n",
       "      <th>2016-04-11</th>\n",
       "      <td>420.3</td>\n",
       "      <td>422.4</td>\n",
       "      <td>418.1</td>\n",
       "      <td>36390.0</td>\n",
       "      <td>0.28</td>\n",
       "    </tr>\n",
       "    <tr>\n",
       "      <th>2016-04-10</th>\n",
       "      <td>418.0</td>\n",
       "      <td>421.6</td>\n",
       "      <td>416.7</td>\n",
       "      <td>23300.0</td>\n",
       "      <td>0.53</td>\n",
       "    </tr>\n",
       "    <tr>\n",
       "      <th>2016-04-09</th>\n",
       "      <td>417.7</td>\n",
       "      <td>418.9</td>\n",
       "      <td>412.4</td>\n",
       "      <td>29430.0</td>\n",
       "      <td>0.09</td>\n",
       "    </tr>\n",
       "    <tr>\n",
       "      <th>2016-04-08</th>\n",
       "      <td>420.1</td>\n",
       "      <td>423.5</td>\n",
       "      <td>415.5</td>\n",
       "      <td>46950.0</td>\n",
       "      <td>-0.58</td>\n",
       "    </tr>\n",
       "  </tbody>\n",
       "</table>\n",
       "</div>"
      ],
      "text/plain": [
       "             Open   High    Low     Vol.  Change %\n",
       "Date                                              \n",
       "2016-04-11  420.3  422.4  418.1  36390.0      0.28\n",
       "2016-04-10  418.0  421.6  416.7  23300.0      0.53\n",
       "2016-04-09  417.7  418.9  412.4  29430.0      0.09\n",
       "2016-04-08  420.1  423.5  415.5  46950.0     -0.58"
      ]
     },
     "execution_count": 22,
     "metadata": {},
     "output_type": "execute_result"
    }
   ],
   "source": [
    "X.iloc[-149:-145]"
   ]
  },
  {
   "cell_type": "code",
   "execution_count": 23,
   "id": "62a3d78a",
   "metadata": {},
   "outputs": [
    {
     "data": {
      "text/plain": [
       "array([430.7, 433.7, 434. , 430. , 427.1, 431.9, 421.8, 422.4, 415.4,\n",
       "       454. , 453. , 442.4, 437. , 437.6, 441.8, 461.2, 463.2, 455.5,\n",
       "       454. , 462.6, 442. , 434.7, 432.3, 449.8, 415.5, 416. , 410.7,\n",
       "       394.3, 393.4, 386.7, 361.7, 360.3, 360. , 361.8, 378. , 370.8,\n",
       "       355.8, 359.5, 353.7, 327.5, 318.4, 322.1, 322.8, 324.7, 321.1,\n",
       "       325. , 335.9, 333.9, 330.2, 317.5])"
      ]
     },
     "execution_count": 23,
     "metadata": {},
     "output_type": "execute_result"
    }
   ],
   "source": [
    "y_check[-1]"
   ]
  },
  {
   "cell_type": "code",
   "execution_count": 24,
   "id": "f655a896",
   "metadata": {},
   "outputs": [
    {
     "data": {
      "text/plain": [
       "array([430.7, 433.7, 434. , 430. , 427.1, 431.9, 421.8, 422.4, 415.4,\n",
       "       454. , 453. , 442.4, 437. , 437.6, 441.8, 461.2, 463.2, 455.5,\n",
       "       454. , 462.6, 442. , 434.7, 432.3, 449.8, 415.5, 416. , 410.7,\n",
       "       394.3, 393.4, 386.7, 361.7, 360.3, 360. , 361.8, 378. , 370.8,\n",
       "       355.8, 359.5, 353.7, 327.5, 318.4, 322.1, 322.8, 324.7, 321.1,\n",
       "       325. , 335.9, 333.9, 330.2, 317.5])"
      ]
     },
     "execution_count": 24,
     "metadata": {},
     "output_type": "execute_result"
    }
   ],
   "source": [
    "cleanData.Price.values[-50:]"
   ]
  },
  {
   "cell_type": "code",
   "execution_count": 25,
   "id": "8c8da220",
   "metadata": {},
   "outputs": [],
   "source": [
    "# Now to set up the LSTM NN class\n",
    "class LSTM(torch.nn.Module):\n",
    "    \n",
    "    def __init__(self, num_classes, input_size, hidden_size, num_layers):\n",
    "        super().__init__()\n",
    "        self.num_classes = num_classes # output size\n",
    "        self.num_layers = num_layers # number of recurrent layers in the lstm\n",
    "        self.input_size = input_size # input size\n",
    "        self.hidden_size = hidden_size # neurons in each lstm layer\n",
    "        # LSTM model\n",
    "        self.lstm = torch.nn.LSTM(input_size=input_size, hidden_size=hidden_size,\n",
    "                            num_layers=num_layers, batch_first=True, dropout=0.2) # lstm\n",
    "        self.fc_1 = torch.nn.Linear(hidden_size, 128) # fully connected \n",
    "        self.fc_2 = torch.nn.Linear(128, num_classes) # fully connected last layer\n",
    "        self.relu = torch.nn.ReLU()\n",
    "        \n",
    "    def forward(self,x):\n",
    "        # hidden state\n",
    "        h_0 = Variable(torch.zeros(self.num_layers, x.size(0), self.hidden_size))\n",
    "        # cell state\n",
    "        c_0 = Variable(torch.zeros(self.num_layers, x.size(0), self.hidden_size))\n",
    "        # propagate input through LSTM\n",
    "        output, (hn, cn) = self.lstm(x, (h_0, c_0)) # (input, hidden, and internal state)\n",
    "        hn = hn.view(-1, self.hidden_size) # reshaping the data for Dense layer next\n",
    "        out = self.relu(hn)\n",
    "        out = self.fc_1(out) # first dense\n",
    "        out = self.relu(out) # relu\n",
    "        out = self.fc_2(out) # final output\n",
    "        return out\n",
    "    \n",
    "# Most initializations of pytorch models are separated by 2 distince chunks\n",
    "#     1. Any variables that the class will need to reference, for things such as hidden layer size, input size, \n",
    "#     and number of layers.\n",
    "#     2. Defining the layers of the model (without connecting them) using the variables instantiated above."
   ]
  },
  {
   "cell_type": "code",
   "execution_count": 26,
   "id": "d5319865",
   "metadata": {},
   "outputs": [],
   "source": [
    "# Training Function\n",
    "def training_loop(n_epochs, lstm, optimiser, loss_fn, X_train, y_train,\n",
    "                  X_test, y_test):\n",
    "    for epoch in range(n_epochs):\n",
    "        lstm.train()\n",
    "        outputs = lstm.forward(X_train) # forward pass\n",
    "        optimiser.zero_grad() # calculate the gradient, manually setting to 0\n",
    "        # obtain the loss function\n",
    "        loss = loss_fn(outputs, y_train)\n",
    "        loss.backward() # calculates the loss of the loss function\n",
    "        optimiser.step() # improve from loss, i.e backprop\n",
    "        # test loss\n",
    "        lstm.eval()\n",
    "        test_preds = lstm(X_test)\n",
    "        test_loss = loss_fn(test_preds, y_test)\n",
    "        if epoch % 100 == 0:\n",
    "            print(\"Epoch: %d, train loss: %1.5f, test loss: %1.5f\" % (epoch, \n",
    "                                                                      loss.item(), \n",
    "                                                                      test_loss.item())) "
   ]
  },
  {
   "cell_type": "code",
   "execution_count": 27,
   "id": "31d2ecf6",
   "metadata": {},
   "outputs": [],
   "source": [
    "# Time to instantiate an instance of our LSTM model\n",
    "import warnings\n",
    "warnings.filterwarnings('ignore')\n",
    "\n",
    "n_epochs = 1000 # 1000 epochs\n",
    "learning_rate = 0.001 # 0.001 lr\n",
    "\n",
    "input_size = 5 # number of features\n",
    "hidden_size = 2 # number of features in hidden state\n",
    "num_layers = 1 # number of stacked lstm layers\n",
    "\n",
    "num_classes = 50 # number of output classes \n",
    "\n",
    "lstm = LSTM(num_classes, \n",
    "              input_size, \n",
    "              hidden_size, \n",
    "              num_layers)"
   ]
  },
  {
   "cell_type": "code",
   "execution_count": 28,
   "id": "3b41ef0d",
   "metadata": {},
   "outputs": [],
   "source": [
    "# Here we will use MSE (Mean Squared Error) as our loss function, this can be changed to an absolute error to be\n",
    "# in accordance with Tashman method\n",
    "loss_fn = torch.nn.MSELoss()    # mean-squared error for regression\n",
    "optimiser = torch.optim.Adam(lstm.parameters(), lr=learning_rate) "
   ]
  },
  {
   "cell_type": "code",
   "execution_count": 29,
   "id": "19d434a9",
   "metadata": {},
   "outputs": [
    {
     "name": "stdout",
     "output_type": "stream",
     "text": [
      "Epoch: 0, train loss: 0.09590, test loss: 0.02177\n",
      "Epoch: 100, train loss: 0.00483, test loss: 0.00410\n",
      "Epoch: 200, train loss: 0.00417, test loss: 0.00268\n",
      "Epoch: 300, train loss: 0.00364, test loss: 0.00124\n",
      "Epoch: 400, train loss: 0.00339, test loss: 0.00066\n",
      "Epoch: 500, train loss: 0.00327, test loss: 0.00046\n",
      "Epoch: 600, train loss: 0.00306, test loss: 0.00012\n",
      "Epoch: 700, train loss: 0.00301, test loss: 0.00011\n",
      "Epoch: 800, train loss: 0.00297, test loss: 0.00009\n",
      "Epoch: 900, train loss: 0.00294, test loss: 0.00009\n"
     ]
    }
   ],
   "source": [
    "training_loop(n_epochs=n_epochs,\n",
    "              lstm=lstm,\n",
    "              optimiser=optimiser,\n",
    "              loss_fn=loss_fn,\n",
    "              X_train=X_train_tensors_final,\n",
    "              y_train=y_train_tensors,\n",
    "              X_test=X_test_tensors_final,\n",
    "              y_test=y_test_tensors)"
   ]
  },
  {
   "cell_type": "code",
   "execution_count": 35,
   "id": "363380f9",
   "metadata": {},
   "outputs": [
    {
     "data": {
      "image/png": "[encoded data removed]",
      "text/plain": [
       "<Figure size 720x432 with 1 Axes>"
      ]
     },
     "metadata": {
      "needs_background": "light"
     },
     "output_type": "display_data"
    }
   ],
   "source": [
    "# Predictions\n",
    "df_X_ss = ss.transform(cleanData.drop(columns=['Price'])) # old transformers\n",
    "df_y_mm = mm.transform(cleanData.Price.values.reshape(-1, 1)) # old transformers\n",
    "# split the sequence\n",
    "df_X_ss, df_y_mm = split_sequences(df_X_ss, df_y_mm, 100, 50)\n",
    "# converting to tensors\n",
    "df_X_ss = Variable(torch.Tensor(df_X_ss))\n",
    "df_y_mm = Variable(torch.Tensor(df_y_mm))\n",
    "# reshaping the dataset\n",
    "df_X_ss = torch.reshape(df_X_ss, (df_X_ss.shape[0], 100, df_X_ss.shape[2]))\n",
    "\n",
    "train_predict = lstm(df_X_ss) # forward pass\n",
    "data_predict = train_predict.data.numpy() # numpy conversion\n",
    "dataY_plot = df_y_mm.data.numpy()\n",
    "\n",
    "data_predict = mm.inverse_transform(data_predict) # reverse transformation\n",
    "dataY_plot = mm.inverse_transform(dataY_plot)\n",
    "true, preds = [], []\n",
    "for i in range(len(dataY_plot)):\n",
    "    true.append(dataY_plot[i][0])\n",
    "for i in range(len(data_predict)):\n",
    "    preds.append(data_predict[i][0])\n",
    "plt.figure(figsize=(10,6)) #plotting\n",
    "plt.axvline(x=train_test_cutoff, c='r', linestyle='--') # size of the training set\n",
    "\n",
    "plt.plot(true[::-1], label='Actual Data') # actual plot\n",
    "plt.plot(preds[::-1], label='Predicted Data') # predicted plot\n",
    "plt.title('Time-Series Prediction')\n",
    "plt.legend()\n",
    "plt.show() "
   ]
  },
  {
   "cell_type": "code",
   "execution_count": 36,
   "id": "1a9e1d17",
   "metadata": {},
   "outputs": [],
   "source": [
    "test_predict = lstm(X_test_tensors_final[-1].unsqueeze(0)) # get the last sample\n",
    "test_predict = test_predict.detach().numpy()\n",
    "test_predict = mm.inverse_transform(test_predict)\n",
    "test_predict = test_predict[0].tolist()\n",
    "\n",
    "test_target = y_test_tensors[-1].detach().numpy() # last sample again\n",
    "test_target = mm.inverse_transform(test_target.reshape(1, -1))\n",
    "test_target = test_target[0].tolist()"
   ]
  },
  {
   "cell_type": "code",
   "execution_count": 39,
   "id": "ab3c2ff1",
   "metadata": {},
   "outputs": [
    {
     "data": {
      "image/png": "[encoded data removed]",
      "text/plain": [
       "<Figure size 432x288 with 1 Axes>"
      ]
     },
     "metadata": {
      "needs_background": "light"
     },
     "output_type": "display_data"
    }
   ],
   "source": [
    "plt.plot(test_target, label=\"Actual Data\")\n",
    "plt.plot(test_predict, label=\"LSTM Predictions\")\n",
    "plt.title('Actual Data vs. LSTM Predictions')\n",
    "plt.xlabel('Days')\n",
    "plt.ylabel('Price')\n",
    "plt.show();"
   ]
  },
  {
   "cell_type": "code",
   "execution_count": null,
   "id": "df18e083",
   "metadata": {},
   "outputs": [],
   "source": []
  }
 ],
 "metadata": {
  "kernelspec": {
   "display_name": "Python 3 (ipykernel)",
   "language": "python",
   "name": "python3"
  },
  "language_info": {
   "codemirror_mode": {
    "name": "ipython",
    "version": 3
   },
   "file_extension": ".py",
   "mimetype": "text/x-python",
   "name": "python",
   "nbconvert_exporter": "python",
   "pygments_lexer": "ipython3",
   "version": "3.9.7"
  }
 },
 "nbformat": 4,
 "nbformat_minor": 5
}
