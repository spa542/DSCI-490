{
 "cells": [
  {
   "cell_type": "markdown",
   "id": "36d82d3c",
   "metadata": {},
   "source": [
    "# LSTM Model Prediction on Bitcoin using Tashman Method"
   ]
  },
  {
   "cell_type": "markdown",
   "id": "f1cd3a03",
   "metadata": {},
   "source": [
    "## Import Libraries"
   ]
  },
  {
   "cell_type": "code",
   "execution_count": 1,
   "id": "ce4a44d3",
   "metadata": {},
   "outputs": [],
   "source": [
    "# Importing Libraries\n",
    "import pandas as pd\n",
    "import matplotlib.pyplot as plt\n",
    "import numpy as np\n",
    "import seaborn as sns\n",
    "import torch\n",
    "from torch.autograd import Variable\n",
    "from sklearn.preprocessing import StandardScaler, MinMaxScaler\n",
    "import warnings\n",
    "warnings.filterwarnings('ignore')"
   ]
  },
  {
   "cell_type": "markdown",
   "id": "988dcf31",
   "metadata": {},
   "source": [
    "## Defining Classes and Functions"
   ]
  },
  {
   "cell_type": "code",
   "execution_count": 2,
   "id": "6738d787",
   "metadata": {},
   "outputs": [],
   "source": [
    "# Defining Classes and Functions\n",
    "def split_sequences(input_sequences, output_sequence, n_steps_in, n_steps_out):\n",
    "    X, y = list(), list() # instantiate X and y\n",
    "    for i in range(len(input_sequences)):\n",
    "        # find the end of the input, output sequence\n",
    "        end_ix = i + n_steps_in\n",
    "        out_end_ix = end_ix + n_steps_out - 1\n",
    "        # check if we are beyond the dataset\n",
    "        if out_end_ix > len(input_sequences): break\n",
    "        # gather input and output of the pattern\n",
    "        seq_x, seq_y = input_sequences[i:end_ix], output_sequence[end_ix-1:out_end_ix, -1]\n",
    "        X.append(seq_x), y.append(seq_y)\n",
    "    return np.array(X), np.array(y)\n",
    "\n",
    "class LSTM(torch.nn.Module):\n",
    "    def __init__(self, num_classes, input_size, hidden_size, num_layers):\n",
    "        super().__init__()\n",
    "        self.num_classes = num_classes # output size\n",
    "        self.num_layers = num_layers # number of recurrent layers in the lstm\n",
    "        self.input_size = input_size # input size\n",
    "        self.hidden_size = hidden_size # neurons in each lstm layer\n",
    "        # LSTM model\n",
    "        self.lstm = torch.nn.LSTM(input_size=input_size, hidden_size=hidden_size,\n",
    "                            num_layers=num_layers, batch_first=True, dropout=0.2) # lstm\n",
    "        self.fc_1 = torch.nn.Linear(hidden_size, 128) # fully connected \n",
    "        self.fc_2 = torch.nn.Linear(128, num_classes) # fully connected last layer\n",
    "        self.relu = torch.nn.ReLU()\n",
    "        \n",
    "    def forward(self,x):\n",
    "        # hidden state\n",
    "        h_0 = Variable(torch.zeros(self.num_layers, x.size(0), self.hidden_size))\n",
    "        # cell state\n",
    "        c_0 = Variable(torch.zeros(self.num_layers, x.size(0), self.hidden_size))\n",
    "        # propagate input through LSTM\n",
    "        output, (hn, cn) = self.lstm(x, (h_0, c_0)) # (input, hidden, and internal state)\n",
    "        hn = hn.view(-1, self.hidden_size) # reshaping the data for Dense layer next\n",
    "        out = self.relu(hn)\n",
    "        out = self.fc_1(out) # first dense\n",
    "        out = self.relu(out) # relu\n",
    "        out = self.fc_2(out) # final output\n",
    "        return out\n",
    "    \n",
    "def training_loop(n_epochs, lstm, optimiser, loss_fn, X_train, y_train, X_test, y_test):\n",
    "    for epoch in range(n_epochs):\n",
    "        lstm.train()\n",
    "        outputs = lstm.forward(X_train) # forward pass\n",
    "        optimiser.zero_grad() # calculate the gradient, manually setting to 0\n",
    "        # obtain the loss function\n",
    "        loss = loss_fn(outputs, y_train)\n",
    "        loss.backward() # calculates the loss of the loss function\n",
    "        optimiser.step() # improve from loss, i.e backprop\n",
    "        # test loss\n",
    "        lstm.eval()\n",
    "        test_preds = lstm(X_test)\n",
    "        test_loss = loss_fn(test_preds, y_test)\n",
    "        if epoch % 100 == 0:\n",
    "            print(\"Epoch: %d, train loss: %1.5f, test loss: %1.5f\" % (epoch, loss.item(), test_loss.item()))\n",
    "            \n",
    "def plot_big_picture_time_series_predictions(true, preds, train_test_cutoff):\n",
    "    plt.figure(figsize=(10,6)) # plotting\n",
    "    plt.axvline(x=train_test_cutoff, c='r', linestyle='--') # size of the training set\n",
    "    plt.plot(true[::-1], label='Actual Data') # actual plot\n",
    "    plt.plot(preds[::-1], label='Predicted Data') # predicted plot\n",
    "    plt.title('Time-Series Prediction')\n",
    "    plt.legend()\n",
    "    plt.show()\n",
    "    \n",
    "def plot_small_picture_predicted_days(test_target, test_predict):\n",
    "    plt.plot(test_target, label=\"Actual Data\")\n",
    "    plt.plot(test_predict, label=\"LSTM Predictions\")\n",
    "    plt.title('Actual Data vs. LSTM Predictions')\n",
    "    plt.xlabel('Days')\n",
    "    plt.ylabel('Price')\n",
    "    plt.legend()\n",
    "    plt.show();"
   ]
  },
  {
   "cell_type": "markdown",
   "id": "34ee1d75",
   "metadata": {},
   "source": [
    "## Reading in, Viewing, and Refactoring the Dataset"
   ]
  },
  {
   "cell_type": "code",
   "execution_count": 3,
   "id": "dc7dad3f",
   "metadata": {},
   "outputs": [
    {
     "data": {
      "image/png": "[encoded data removed]",
      "text/plain": [
       "<Figure size 432x288 with 1 Axes>"
      ]
     },
     "metadata": {
      "needs_background": "light"
     },
     "output_type": "display_data"
    }
   ],
   "source": [
    "# Reading in, Viewing, and Refactoring Dataset\n",
    "df = pd.read_csv(r'../Datasets/BitcoinData.csv', index_col='Date', parse_dates=True) #read the csv file (put 'r' before the path string to address any special characters in the path, such as '\\'). Don't forget to put the file name at the end of the path + \".csv\"\n",
    "# print(df)\n",
    "# print(df.dtypes)\n",
    "cleanData = df\n",
    "\n",
    "repl_dict = {'[kK]': '*1e3', '[mM]': '*1e6', '[bB]': '*1e9', }\n",
    "cleanData['Vol.'] = cleanData['Vol.'].replace(repl_dict, regex=True).map(pd.eval).astype(float)\n",
    "\n",
    "cleanData['Price'] = cleanData['Price'].astype(str).str.replace(',', '').astype(float)\n",
    "cleanData['Open'] = cleanData['Open'].astype(str).str.replace(',', '').astype(float)\n",
    "cleanData['High'] = cleanData['High'].astype(str).str.replace(',', '').astype(float)\n",
    "cleanData['Low'] = cleanData['Low'].astype(str).str.replace(',', '').astype(float)\n",
    "cleanData['Change %'] = cleanData['Change %'].astype(str).str.replace('%', '').astype(float)\n",
    "# print(cleanData.describe())\n",
    "# print(cleanData.info())\n",
    "# print(cleanData.head())\n",
    "\n",
    "plt.plot(cleanData.Price)\n",
    "plt.title('Bitcoin Price Over Time')\n",
    "plt.xlabel('Date')\n",
    "plt.ylabel('Price')\n",
    "plt.show()"
   ]
  },
  {
   "cell_type": "markdown",
   "id": "4f95298a",
   "metadata": {},
   "source": [
    "## Preparing the Dataset"
   ]
  },
  {
   "cell_type": "code",
   "execution_count": 4,
   "id": "4efe6daa",
   "metadata": {},
   "outputs": [
    {
     "name": "stdout",
     "output_type": "stream",
     "text": [
      "(2285, 5) (2285,)\n"
     ]
    }
   ],
   "source": [
    "# Create X and y datasets\n",
    "X, y = cleanData.drop(columns=['Price']), cleanData.Price.values\n",
    "print(X.shape, y.shape)"
   ]
  },
  {
   "cell_type": "markdown",
   "id": "64e30de9",
   "metadata": {},
   "source": [
    "### Training/Testing Parameters"
   ]
  },
  {
   "cell_type": "code",
   "execution_count": 5,
   "id": "9ed61ceb",
   "metadata": {},
   "outputs": [
    {
     "name": "stdout",
     "output_type": "stream",
     "text": [
      "Train Samples: 1942\n",
      "Test Samples: 343\n",
      "Test-Train Samples: 240\n",
      "Test-Test Samples: 103\n"
     ]
    }
   ],
   "source": [
    "# We want to predict data several months or so in the future, here we will set the training data size at 85%\n",
    "# and the remaining 15% can be used for testing data\n",
    "train_test_percentage = 0.85\n",
    "test_test_percentage = 0.70\n",
    "total_samples = len(X)\n",
    "train_test_cutoff = round(train_test_percentage * total_samples) # TRAIN/TEST split cutoff!!!!!!!!!\n",
    "test_samples = total_samples - train_test_cutoff\n",
    "train_test_size = round(test_test_percentage * test_samples)\n",
    "test_test_size = test_samples - train_test_size\n",
    "print(f'Train Samples: {train_test_cutoff}')\n",
    "print(f'Test Samples: {test_samples}')\n",
    "print(f'Test-Train Samples: {train_test_size}')\n",
    "print(f'Test-Test Samples: {test_test_size}')"
   ]
  },
  {
   "cell_type": "code",
   "execution_count": 6,
   "id": "46a1052f",
   "metadata": {},
   "outputs": [
    {
     "name": "stdout",
     "output_type": "stream",
     "text": [
      "(1944, 240, 5) (1944, 103)\n",
      "These should be the same....\n",
      "[0.4668102  0.52489347 0.52366747 0.52717883 0.56143841 0.56566394\n",
      " 0.59274458 0.59829878 0.57588409 0.52298454 0.55046689 0.54056961\n",
      " 0.55072876 0.4919685  0.49487133 0.52816082 0.52376567 0.54357361\n",
      " 0.57833014 0.55405562 0.54113798 0.55022883 0.52574155 0.50984818\n",
      " 0.52588587 0.56687358 0.57925113 0.56629331 0.57183263 0.51126314\n",
      " 0.55245617 0.55021098 0.60109299 0.54162749 0.63352993 0.64311178\n",
      " 0.68603817 0.6902399  0.73682496 0.73481336 0.73004624 0.83883149\n",
      " 0.82623225 0.8617833  0.87073727 0.84837614 0.83451222 0.84992501\n",
      " 0.79487698 0.84588546 0.83746414 0.85536762 0.85407615 0.79218841\n",
      " 0.81124201 0.81414483 0.79902813 0.72378828 0.74053123 0.75622374\n",
      " 0.76494114 0.79604793 0.83566978 0.82321486 0.83156178 0.88861843\n",
      " 0.90852309 0.93584475 0.93233934 0.94067882 0.88596854 0.8876781\n",
      " 0.88425154 0.86000381 0.85938932 0.82771714 0.85818266 0.87301816\n",
      " 0.86121196 0.84425029 0.87277862 0.86892505 0.86960054 0.86971362\n",
      " 0.85252729 0.82498691 0.82644055 0.81413888 0.75888255 0.77380733\n",
      " 0.8054557  0.8010784  0.84906949 0.85962738 0.85954703 0.85311946\n",
      " 0.87182936 0.84171795 0.82537524 0.87480807 0.90577946 0.84730339\n",
      " 0.85525454]\n",
      "[0.4668102  0.52489347 0.52366747 0.52717883 0.56143841 0.56566394\n",
      " 0.59274458 0.59829878 0.57588409 0.52298454 0.55046689 0.54056961\n",
      " 0.55072876 0.4919685  0.49487133 0.52816082 0.52376567 0.54357361\n",
      " 0.57833014 0.55405562 0.54113798 0.55022883 0.52574155 0.50984818\n",
      " 0.52588587 0.56687358 0.57925113 0.56629331 0.57183263 0.51126314\n",
      " 0.55245617 0.55021098 0.60109299 0.54162749 0.63352993 0.64311178\n",
      " 0.68603817 0.6902399  0.73682496 0.73481336 0.73004624 0.83883149\n",
      " 0.82623225 0.8617833  0.87073727 0.84837614 0.83451222 0.84992501\n",
      " 0.79487698 0.84588546 0.83746414 0.85536762 0.85407615 0.79218841\n",
      " 0.81124201 0.81414483 0.79902813 0.72378828 0.74053123 0.75622374\n",
      " 0.76494114 0.79604793 0.83566978 0.82321486 0.83156178 0.88861843\n",
      " 0.90852309 0.93584475 0.93233934 0.94067882 0.88596854 0.8876781\n",
      " 0.88425154 0.86000381 0.85938932 0.82771714 0.85818266 0.87301816\n",
      " 0.86121196 0.84425029 0.87277862 0.86892505 0.86960054 0.86971362\n",
      " 0.85252729 0.82498691 0.82644055 0.81413888 0.75888255 0.77380733\n",
      " 0.8054557  0.8010784  0.84906949 0.85962738 0.85954703 0.85311946\n",
      " 0.87182936 0.84171795 0.82537524 0.87480807 0.90577946 0.84730339\n",
      " 0.85525454]\n",
      "Train size: 1942 Test Size: 343\n",
      "Training Shape: (1601, 240, 5) (1601, 103)\n",
      "Testing Shape: (343, 240, 5) (343, 103)\n",
      "Current test training set size 240\n",
      "Current test testing set size 103\n",
      "The first training set is from 0 to 79\n",
      "The second training set is from 60 to 158\n",
      "The third training set is from 120 to 240\n",
      "(343, 79, 5)\n",
      "(343, 98, 5)\n",
      "(343, 120, 5)\n",
      "Training Shape: torch.Size([1601, 240, 5]) torch.Size([1601, 103])\n",
      "Testing Shape: torch.Size([343, 79, 5]) torch.Size([343, 103])\n",
      "             Open   High    Low     Vol.  Change %\n",
      "Date                                              \n",
      "2016-10-21  628.3  633.3  627.6  28090.0      0.34\n",
      "2016-10-20  629.1  630.8  625.5  20940.0     -0.11\n",
      "2016-10-19  635.3  637.3  624.1  35290.0     -0.99\n",
      "These should be the same....\n",
      "[423.5 422.7 419.9 437.8 437.9 440.1 420.  421.4 417.1 406.4 401.1 405.5\n",
      " 390.1 384.  379.5 381.9 375.3 372.6 377.9 376.7 386.5 390.6 368.  373.9\n",
      " 372.2 369.8 377.8 380.3 379.7 395.  389.8 392.8 402.1 388.6 382.6 410.2\n",
      " 414.6 379.5 384.4 382.5 385.  372.3 429.1 432.2 445.  447.7 446.2 448.3\n",
      " 452.9 457.  430.8 431.2 433.3 430.7 433.7 434.  430.  427.1 431.9 421.8\n",
      " 422.4 415.4 454.  453.  442.4 437.  437.6 441.8 461.2 463.2 455.5 454.\n",
      " 462.6 442.  434.7 432.3 449.8 415.5 416.  410.7 394.3 393.4 386.7 361.7\n",
      " 360.3 360.  361.8 378.  370.8 355.8 359.5 353.7 327.5 318.4 322.1 322.8\n",
      " 324.7 321.1 325.  335.9 333.9 330.2 317.5]\n",
      "[423.5 422.7 419.9 437.8 437.9 440.1 420.  421.4 417.1 406.4 401.1 405.5\n",
      " 390.1 384.  379.5 381.9 375.3 372.6 377.9 376.7 386.5 390.6 368.  373.9\n",
      " 372.2 369.8 377.8 380.3 379.7 395.  389.8 392.8 402.1 388.6 382.6 410.2\n",
      " 414.6 379.5 384.4 382.5 385.  372.3 429.1 432.2 445.  447.7 446.2 448.3\n",
      " 452.9 457.  430.8 431.2 433.3 430.7 433.7 434.  430.  427.1 431.9 421.8\n",
      " 422.4 415.4 454.  453.  442.4 437.  437.6 441.8 461.2 463.2 455.5 454.\n",
      " 462.6 442.  434.7 432.3 449.8 415.5 416.  410.7 394.3 393.4 386.7 361.7\n",
      " 360.3 360.  361.8 378.  370.8 355.8 359.5 353.7 327.5 318.4 322.1 322.8\n",
      " 324.7 321.1 325.  335.9 333.9 330.2 317.5]\n"
     ]
    }
   ],
   "source": [
    "mm = MinMaxScaler()\n",
    "ss = StandardScaler()\n",
    "\n",
    "X_trans = ss.fit_transform(X)\n",
    "y_trans = mm.fit_transform(y.reshape(-1, 1))\n",
    "\n",
    "X_ss, y_mm = split_sequences(X_trans, y_trans, train_test_size, test_test_size)\n",
    "print(X_ss.shape, y_mm.shape)\n",
    "\n",
    "print('These should be the same....')\n",
    "print(y_mm[0])\n",
    "print(y_trans[(train_test_size-1):(test_samples-1)].squeeze(1))\n",
    "\n",
    "assert y_mm[0].all() == y_trans[train_test_size:test_samples-1].squeeze(1).all()\n",
    "\n",
    "print(f'Train size: {train_test_cutoff} Test Size: {test_samples}')\n",
    "\n",
    "X_train = X_ss[:(-1*test_samples)]\n",
    "X_test = X_ss[(-1*test_samples):]\n",
    "\n",
    "y_train = y_mm[:(-1*test_samples)]\n",
    "y_test = y_mm[(-1*test_samples):]\n",
    "\n",
    "print(\"Training Shape:\", X_train.shape, y_train.shape)\n",
    "print(\"Testing Shape:\", X_test.shape, y_test.shape)\n",
    "\n",
    "# HERE IS WHERE TASHMAN WILL BE CONDUCTED\n",
    "print(f'Current test training set size {train_test_size}')\n",
    "print(f'Current test testing set size {test_test_size}')\n",
    "tashman_split = .33\n",
    "percentage_push = .25\n",
    "start_limit = round(tashman_split*train_test_size)\n",
    "print(f'The first training set is from 0 to {start_limit}')\n",
    "second_start_limit = round(percentage_push*train_test_size)\n",
    "print(f'The second training set is from {second_start_limit} to {2*start_limit}')\n",
    "print(f'The third training set is from {2*second_start_limit} to {train_test_size}')\n",
    "\n",
    "X_test_1 = X_test[:,:start_limit,:]\n",
    "print(X_test_1.shape)\n",
    "X_test_2 = X_test[:,second_start_limit:2*start_limit,:]\n",
    "print(X_test_2.shape)\n",
    "X_test_3 = X_test[:,2*second_start_limit:train_test_size,:]\n",
    "print(X_test_3.shape)\n",
    "\n",
    "# Now we need to convert our test and training sets into tensors, which are like numpy arrays but are used\n",
    "# in pytorch\n",
    "X_train_tensors = Variable(torch.Tensor(X_train))\n",
    "X_test_tensors = Variable(torch.Tensor(X_test_1))\n",
    "\n",
    "y_train_tensors = Variable(torch.Tensor(y_train))\n",
    "y_test_tensors = Variable(torch.Tensor(y_test))\n",
    "\n",
    "# Here we will use the LSTM NN for our prediction algorithm. The input shape of the data depends on whether\n",
    "# batch_first is true or not. Here, we will set it to be true, meaning the size of the input is (N, L, Hin),\n",
    "# where N is the batch size, L is the sequence length, and Hin is the input size (number of features). In other\n",
    "# words, we want the dimensions to be the rows of the dataframe in the first dimension, followed by the length of\n",
    "# the dataframe in the second dimension, and finally the features (in which we have 5) in the final dimension.\n",
    "X_train_tensors_final = torch.reshape(X_train_tensors,   \n",
    "                                      (X_train_tensors.shape[0], X_train_tensors.shape[1], \n",
    "                                       X_train_tensors.shape[2]))\n",
    "X_test_tensors_final = torch.reshape(X_test_tensors,  \n",
    "                                     (X_test_tensors.shape[0], X_test_tensors.shape[1], \n",
    "                                      X_test_tensors.shape[2]))\n",
    "\n",
    "print(\"Training Shape:\", X_train_tensors_final.shape, y_train_tensors.shape)\n",
    "print(\"Testing Shape:\", X_test_tensors_final.shape, y_test_tensors.shape)\n",
    "\n",
    "# Lastly, we want to check the data logic of the test set. We want to predict 50 timesteps into the future with \n",
    "# Bitcoin. Based on split_sequence() above, we simply need to add the last sample of 100 days to X_test, run the \n",
    "# model on it, and compare these predictions with the last 50 days of y_test, these correspond to a period of 100\n",
    "# days in X_test's last sample, proceeded immediately by the next 50 days in the last sample of y_test\n",
    "# HERE, we want to check that the last 50 samples that we will be predicting match the last 50 values of y \n",
    "# in the test set\n",
    "X_check, y_check = split_sequences(X, y.reshape(-1, 1), train_test_size, test_test_size)\n",
    "X_check[-1][0:4]\n",
    "\n",
    "print(X.iloc[(-1*(test_samples-1)):(-1*(test_samples-4))])\n",
    "\n",
    "print('These should be the same....')\n",
    "print(y_check[-1])\n",
    "print(cleanData.Price.values[(-1*test_test_size):])"
   ]
  },
  {
   "cell_type": "markdown",
   "id": "1b456887",
   "metadata": {},
   "source": [
    "## Training Model"
   ]
  },
  {
   "cell_type": "markdown",
   "id": "80a20718",
   "metadata": {},
   "source": [
    "### LSTM Parameters"
   ]
  },
  {
   "cell_type": "code",
   "execution_count": 7,
   "id": "8209f0ee",
   "metadata": {},
   "outputs": [],
   "source": [
    "# Time to instantiate an instance of our LSTM model\n",
    "n_epochs = 1000 # 1000 epochs\n",
    "learning_rate = 0.001 # 0.001 lr\n",
    "\n",
    "input_size = 5 # number of features\n",
    "hidden_size = 2 # number of features in hidden state\n",
    "num_layers = 1 # number of stacked lstm layers\n",
    "\n",
    "num_classes = test_test_size # number of output classes\n",
    "\n",
    "lstm = LSTM(num_classes, input_size, hidden_size, num_layers)\n",
    "\n",
    "# Here we will use MSE (Mean Squared Error) as our loss function, this can be changed to an absolute error to be\n",
    "# in accordance with Tashman method\n",
    "loss_fn = torch.nn.MSELoss()    # mean-squared error for regression\n",
    "optimiser = torch.optim.Adam(lstm.parameters(), lr=learning_rate)"
   ]
  },
  {
   "cell_type": "code",
   "execution_count": 8,
   "id": "b3c443ed",
   "metadata": {},
   "outputs": [
    {
     "name": "stdout",
     "output_type": "stream",
     "text": [
      "Epoch: 0, train loss: 0.07118, test loss: 0.02130\n",
      "Epoch: 100, train loss: 0.00930, test loss: 0.00960\n",
      "Epoch: 200, train loss: 0.00691, test loss: 0.00783\n",
      "Epoch: 300, train loss: 0.00581, test loss: 0.00343\n",
      "Epoch: 400, train loss: 0.00540, test loss: 0.00203\n",
      "Epoch: 500, train loss: 0.00514, test loss: 0.00138\n",
      "Epoch: 600, train loss: 0.00497, test loss: 0.00117\n",
      "Epoch: 700, train loss: 0.00340, test loss: 0.00119\n",
      "Epoch: 800, train loss: 0.00271, test loss: 0.00072\n",
      "Epoch: 900, train loss: 0.00221, test loss: 0.00056\n"
     ]
    }
   ],
   "source": [
    "# Train here\n",
    "training_loop(n_epochs=n_epochs,\n",
    "              lstm=lstm,\n",
    "              optimiser=optimiser,\n",
    "              loss_fn=loss_fn,\n",
    "              X_train=X_train_tensors_final,\n",
    "              y_train=y_train_tensors,\n",
    "              X_test=X_test_tensors_final,\n",
    "              y_test=y_test_tensors)"
   ]
  },
  {
   "cell_type": "markdown",
   "id": "44f1c7b2",
   "metadata": {},
   "source": [
    "## Predictions and Graphs"
   ]
  },
  {
   "cell_type": "code",
   "execution_count": 9,
   "id": "79e54aa3",
   "metadata": {},
   "outputs": [
    {
     "data": {
      "image/png": "[encoded data removed]",
      "text/plain": [
       "<Figure size 720x432 with 1 Axes>"
      ]
     },
     "metadata": {
      "needs_background": "light"
     },
     "output_type": "display_data"
    },
    {
     "data": {
      "image/png": "[encoded data removed]",
      "text/plain": [
       "<Figure size 432x288 with 1 Axes>"
      ]
     },
     "metadata": {
      "needs_background": "light"
     },
     "output_type": "display_data"
    }
   ],
   "source": [
    "# Predictions\n",
    "df_X_ss = ss.transform(cleanData.drop(columns=['Price'])) # old transformers\n",
    "df_y_mm = mm.transform(cleanData.Price.values.reshape(-1, 1)) # old transformers\n",
    "# split the sequence\n",
    "df_X_ss, df_y_mm = split_sequences(df_X_ss, df_y_mm, train_test_size, test_test_size)\n",
    "# converting to tensors\n",
    "df_X_ss = Variable(torch.Tensor(df_X_ss))\n",
    "df_y_mm = Variable(torch.Tensor(df_y_mm))\n",
    "# reshaping the dataset\n",
    "df_X_ss = torch.reshape(df_X_ss, (df_X_ss.shape[0], df_X_ss.shape[1], df_X_ss.shape[2]))\n",
    "\n",
    "train_predict = lstm(df_X_ss) # forward pass\n",
    "data_predict = train_predict.data.numpy() # numpy conversion\n",
    "dataY_plot = df_y_mm.data.numpy()\n",
    "\n",
    "data_predict = mm.inverse_transform(data_predict) # reverse transformation\n",
    "dataY_plot = mm.inverse_transform(dataY_plot)\n",
    "true, preds = [], []\n",
    "for i in range(len(dataY_plot)):\n",
    "    true.append(dataY_plot[i][0])\n",
    "for i in range(len(data_predict)):\n",
    "    preds.append(data_predict[i][0])\n",
    "    \n",
    "# Plotting the first graph\n",
    "plot_big_picture_time_series_predictions(true, preds, train_test_cutoff)\n",
    "    \n",
    "test_predict = lstm(X_test_tensors_final[-1].unsqueeze(0)) # get the last sample\n",
    "test_predict = test_predict.detach().numpy()\n",
    "test_predict = mm.inverse_transform(test_predict)\n",
    "test_predict = test_predict[0].tolist()\n",
    "\n",
    "test_target = y_test_tensors[-1].detach().numpy() # last sample again\n",
    "test_target = mm.inverse_transform(test_target.reshape(1, -1))\n",
    "test_target = test_target[0].tolist()\n",
    "\n",
    "# Plotting the second graph\n",
    "plot_small_picture_predicted_days(test_target, test_predict)"
   ]
  }
 ],
 "metadata": {
  "kernelspec": {
   "display_name": "Python 3 (ipykernel)",
   "language": "python",
   "name": "python3"
  },
  "language_info": {
   "codemirror_mode": {
    "name": "ipython",
    "version": 3
   },
   "file_extension": ".py",
   "mimetype": "text/x-python",
   "name": "python",
   "nbconvert_exporter": "python",
   "pygments_lexer": "ipython3",
   "version": "3.9.7"
  }
 },
 "nbformat": 4,
 "nbformat_minor": 5
}
