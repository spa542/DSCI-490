{
 "cells": [
  {
   "cell_type": "markdown",
   "metadata": {},
   "source": [
    "# Getting bitcoin price data from investing.com data sheet"
   ]
  },
  {
   "cell_type": "code",
   "execution_count": 5,
   "metadata": {},
   "outputs": [
    {
     "name": "stdout",
     "output_type": "stream",
     "text": [
      "              Date     Price      Open      High       Low    Vol. Change %\n",
      "0     Feb 15, 2022  43,605.3  42,550.3  43,658.8  42,460.1  56.13K    2.48%\n",
      "1     Feb 14, 2022  42,550.3  42,061.1  42,799.7  41,591.3  53.60K    1.16%\n",
      "2     Feb 13, 2022  42,061.1  42,205.5  42,725.1  41,880.1  25.88K   -0.34%\n",
      "3     Feb 12, 2022  42,205.2  42,388.4  43,006.4  41,776.8  37.88K   -0.43%\n",
      "4     Feb 11, 2022  42,388.4  43,519.3  43,915.1  42,023.4  69.95K   -2.60%\n",
      "...            ...       ...       ...       ...       ...     ...      ...\n",
      "2280  Nov 19, 2015     325.0     335.9     335.6     323.4  86.38K   -3.26%\n",
      "2281  Nov 18, 2015     335.9     333.9     337.4     329.4  78.36K    0.60%\n",
      "2282  Nov 17, 2015     333.9     330.2     342.9     328.1  98.25K    1.12%\n",
      "2283  Nov 16, 2015     330.2     317.5     332.0     314.1  87.14K    4.02%\n",
      "2284  Nov 15, 2015     317.5     331.8     334.8     314.2  88.32K   -4.32%\n",
      "\n",
      "[2285 rows x 7 columns]\n"
     ]
    }
   ],
   "source": [
    "import pandas as pd\n",
    "import matplotlib.pyplot as plt\n",
    "df = pd.read_csv (r'../Datasets/BitcoinData.csv')   #read the csv file (put 'r' before the path string to address any special characters in the path, such as '\\'). Don't forget to put the file name at the end of the path + \".csv\"\n",
    "print (df)"
   ]
  },
  {
   "cell_type": "code",
   "execution_count": 6,
   "metadata": {},
   "outputs": [
    {
     "data": {
      "text/plain": [
       "Date        object\n",
       "Price       object\n",
       "Open        object\n",
       "High        object\n",
       "Low         object\n",
       "Vol.        object\n",
       "Change %    object\n",
       "dtype: object"
      ]
     },
     "execution_count": 6,
     "metadata": {},
     "output_type": "execute_result"
    }
   ],
   "source": [
    "df.dtypes"
   ]
  },
  {
   "cell_type": "code",
   "execution_count": 7,
   "metadata": {},
   "outputs": [],
   "source": [
    "cleanData = df\n",
    "\n",
    "repl_dict = {'[kK]': '*1e3', '[mM]': '*1e6', '[bB]': '*1e9', }\n",
    "cleanData['Vol.'] = cleanData['Vol.'].replace(repl_dict, regex=True).map(pd.eval).astype(float)\n",
    "\n",
    "cleanData['Price'] = cleanData['Price'].astype(str).str.replace(',', '').astype(float)\n",
    "cleanData['Open'] = cleanData['Open'].astype(str).str.replace(',', '').astype(float)\n",
    "cleanData['High'] = cleanData['High'].astype(str).str.replace(',', '').astype(float)\n",
    "cleanData['Low'] = cleanData['Low'].astype(str).str.replace(',', '').astype(float)\n",
    "cleanData['Change %'] = cleanData['Change %'].astype(str).str.replace('%', '').astype(float)"
   ]
  },
  {
   "cell_type": "code",
   "execution_count": 8,
   "metadata": {},
   "outputs": [
    {
     "data": {
      "text/html": [
       "<div>\n",
       "<style scoped>\n",
       "    .dataframe tbody tr th:only-of-type {\n",
       "        vertical-align: middle;\n",
       "    }\n",
       "\n",
       "    .dataframe tbody tr th {\n",
       "        vertical-align: top;\n",
       "    }\n",
       "\n",
       "    .dataframe thead th {\n",
       "        text-align: right;\n",
       "    }\n",
       "</style>\n",
       "<table border=\"1\" class=\"dataframe\">\n",
       "  <thead>\n",
       "    <tr style=\"text-align: right;\">\n",
       "      <th></th>\n",
       "      <th>Price</th>\n",
       "      <th>Open</th>\n",
       "      <th>High</th>\n",
       "      <th>Low</th>\n",
       "      <th>Vol.</th>\n",
       "      <th>Change %</th>\n",
       "    </tr>\n",
       "  </thead>\n",
       "  <tbody>\n",
       "    <tr>\n",
       "      <th>count</th>\n",
       "      <td>2285.000000</td>\n",
       "      <td>2285.000000</td>\n",
       "      <td>2285.000000</td>\n",
       "      <td>2285.000000</td>\n",
       "      <td>2.285000e+03</td>\n",
       "      <td>2285.000000</td>\n",
       "    </tr>\n",
       "    <tr>\n",
       "      <th>mean</th>\n",
       "      <td>13303.703720</td>\n",
       "      <td>13284.855011</td>\n",
       "      <td>13662.048709</td>\n",
       "      <td>12862.238293</td>\n",
       "      <td>4.889052e+05</td>\n",
       "      <td>0.293527</td>\n",
       "    </tr>\n",
       "    <tr>\n",
       "      <th>std</th>\n",
       "      <td>16723.975876</td>\n",
       "      <td>16714.244909</td>\n",
       "      <td>17178.001115</td>\n",
       "      <td>16180.627018</td>\n",
       "      <td>1.275485e+06</td>\n",
       "      <td>3.973664</td>\n",
       "    </tr>\n",
       "    <tr>\n",
       "      <th>min</th>\n",
       "      <td>317.500000</td>\n",
       "      <td>317.500000</td>\n",
       "      <td>323.300000</td>\n",
       "      <td>309.500000</td>\n",
       "      <td>2.600000e+02</td>\n",
       "      <td>-39.180000</td>\n",
       "    </tr>\n",
       "    <tr>\n",
       "      <th>25%</th>\n",
       "      <td>2362.400000</td>\n",
       "      <td>2344.000000</td>\n",
       "      <td>2494.000000</td>\n",
       "      <td>2263.300000</td>\n",
       "      <td>6.692000e+04</td>\n",
       "      <td>-1.290000</td>\n",
       "    </tr>\n",
       "    <tr>\n",
       "      <th>50%</th>\n",
       "      <td>7366.700000</td>\n",
       "      <td>7363.800000</td>\n",
       "      <td>7535.600000</td>\n",
       "      <td>7185.700000</td>\n",
       "      <td>1.326000e+05</td>\n",
       "      <td>0.220000</td>\n",
       "    </tr>\n",
       "    <tr>\n",
       "      <th>75%</th>\n",
       "      <td>11506.900000</td>\n",
       "      <td>11503.200000</td>\n",
       "      <td>11823.300000</td>\n",
       "      <td>11226.100000</td>\n",
       "      <td>4.881600e+05</td>\n",
       "      <td>1.910000</td>\n",
       "    </tr>\n",
       "    <tr>\n",
       "      <th>max</th>\n",
       "      <td>67527.900000</td>\n",
       "      <td>67528.700000</td>\n",
       "      <td>68990.600000</td>\n",
       "      <td>66334.900000</td>\n",
       "      <td>2.026000e+07</td>\n",
       "      <td>25.560000</td>\n",
       "    </tr>\n",
       "  </tbody>\n",
       "</table>\n",
       "</div>"
      ],
      "text/plain": [
       "              Price          Open          High           Low          Vol.  \\\n",
       "count   2285.000000   2285.000000   2285.000000   2285.000000  2.285000e+03   \n",
       "mean   13303.703720  13284.855011  13662.048709  12862.238293  4.889052e+05   \n",
       "std    16723.975876  16714.244909  17178.001115  16180.627018  1.275485e+06   \n",
       "min      317.500000    317.500000    323.300000    309.500000  2.600000e+02   \n",
       "25%     2362.400000   2344.000000   2494.000000   2263.300000  6.692000e+04   \n",
       "50%     7366.700000   7363.800000   7535.600000   7185.700000  1.326000e+05   \n",
       "75%    11506.900000  11503.200000  11823.300000  11226.100000  4.881600e+05   \n",
       "max    67527.900000  67528.700000  68990.600000  66334.900000  2.026000e+07   \n",
       "\n",
       "          Change %  \n",
       "count  2285.000000  \n",
       "mean      0.293527  \n",
       "std       3.973664  \n",
       "min     -39.180000  \n",
       "25%      -1.290000  \n",
       "50%       0.220000  \n",
       "75%       1.910000  \n",
       "max      25.560000  "
      ]
     },
     "execution_count": 8,
     "metadata": {},
     "output_type": "execute_result"
    }
   ],
   "source": [
    "cleanData.describe()"
   ]
  },
  {
   "cell_type": "code",
   "execution_count": 9,
   "metadata": {},
   "outputs": [
    {
     "name": "stdout",
     "output_type": "stream",
     "text": [
      "<class 'pandas.core.frame.DataFrame'>\n",
      "RangeIndex: 2285 entries, 0 to 2284\n",
      "Data columns (total 7 columns):\n",
      " #   Column    Non-Null Count  Dtype  \n",
      "---  ------    --------------  -----  \n",
      " 0   Date      2285 non-null   object \n",
      " 1   Price     2285 non-null   float64\n",
      " 2   Open      2285 non-null   float64\n",
      " 3   High      2285 non-null   float64\n",
      " 4   Low       2285 non-null   float64\n",
      " 5   Vol.      2285 non-null   float64\n",
      " 6   Change %  2285 non-null   float64\n",
      "dtypes: float64(6), object(1)\n",
      "memory usage: 125.1+ KB\n"
     ]
    }
   ],
   "source": [
    "cleanData.info()"
   ]
  },
  {
   "cell_type": "code",
   "execution_count": 10,
   "metadata": {},
   "outputs": [
    {
     "data": {
      "text/html": [
       "<div>\n",
       "<style scoped>\n",
       "    .dataframe tbody tr th:only-of-type {\n",
       "        vertical-align: middle;\n",
       "    }\n",
       "\n",
       "    .dataframe tbody tr th {\n",
       "        vertical-align: top;\n",
       "    }\n",
       "\n",
       "    .dataframe thead th {\n",
       "        text-align: right;\n",
       "    }\n",
       "</style>\n",
       "<table border=\"1\" class=\"dataframe\">\n",
       "  <thead>\n",
       "    <tr style=\"text-align: right;\">\n",
       "      <th></th>\n",
       "      <th>Date</th>\n",
       "      <th>Price</th>\n",
       "      <th>Open</th>\n",
       "      <th>High</th>\n",
       "      <th>Low</th>\n",
       "      <th>Vol.</th>\n",
       "      <th>Change %</th>\n",
       "    </tr>\n",
       "  </thead>\n",
       "  <tbody>\n",
       "    <tr>\n",
       "      <th>0</th>\n",
       "      <td>Feb 15, 2022</td>\n",
       "      <td>43605.3</td>\n",
       "      <td>42550.3</td>\n",
       "      <td>43658.8</td>\n",
       "      <td>42460.1</td>\n",
       "      <td>56130.0</td>\n",
       "      <td>2.48</td>\n",
       "    </tr>\n",
       "    <tr>\n",
       "      <th>1</th>\n",
       "      <td>Feb 14, 2022</td>\n",
       "      <td>42550.3</td>\n",
       "      <td>42061.1</td>\n",
       "      <td>42799.7</td>\n",
       "      <td>41591.3</td>\n",
       "      <td>53600.0</td>\n",
       "      <td>1.16</td>\n",
       "    </tr>\n",
       "    <tr>\n",
       "      <th>2</th>\n",
       "      <td>Feb 13, 2022</td>\n",
       "      <td>42061.1</td>\n",
       "      <td>42205.5</td>\n",
       "      <td>42725.1</td>\n",
       "      <td>41880.1</td>\n",
       "      <td>25880.0</td>\n",
       "      <td>-0.34</td>\n",
       "    </tr>\n",
       "    <tr>\n",
       "      <th>3</th>\n",
       "      <td>Feb 12, 2022</td>\n",
       "      <td>42205.2</td>\n",
       "      <td>42388.4</td>\n",
       "      <td>43006.4</td>\n",
       "      <td>41776.8</td>\n",
       "      <td>37880.0</td>\n",
       "      <td>-0.43</td>\n",
       "    </tr>\n",
       "    <tr>\n",
       "      <th>4</th>\n",
       "      <td>Feb 11, 2022</td>\n",
       "      <td>42388.4</td>\n",
       "      <td>43519.3</td>\n",
       "      <td>43915.1</td>\n",
       "      <td>42023.4</td>\n",
       "      <td>69950.0</td>\n",
       "      <td>-2.60</td>\n",
       "    </tr>\n",
       "  </tbody>\n",
       "</table>\n",
       "</div>"
      ],
      "text/plain": [
       "           Date    Price     Open     High      Low     Vol.  Change %\n",
       "0  Feb 15, 2022  43605.3  42550.3  43658.8  42460.1  56130.0      2.48\n",
       "1  Feb 14, 2022  42550.3  42061.1  42799.7  41591.3  53600.0      1.16\n",
       "2  Feb 13, 2022  42061.1  42205.5  42725.1  41880.1  25880.0     -0.34\n",
       "3  Feb 12, 2022  42205.2  42388.4  43006.4  41776.8  37880.0     -0.43\n",
       "4  Feb 11, 2022  42388.4  43519.3  43915.1  42023.4  69950.0     -2.60"
      ]
     },
     "execution_count": 10,
     "metadata": {},
     "output_type": "execute_result"
    }
   ],
   "source": [
    "cleanData.head()"
   ]
  },
  {
   "cell_type": "code",
   "execution_count": 11,
   "metadata": {},
   "outputs": [
    {
     "data": {
      "text/plain": [
       "[<matplotlib.lines.Line2D at 0x7f7f21fef450>]"
      ]
     },
     "execution_count": 11,
     "metadata": {},
     "output_type": "execute_result"
    },
    {
     "data": {
      "image/png": "[encoded data removed]",
      "text/plain": [
       "<Figure size 432x288 with 1 Axes>"
      ]
     },
     "metadata": {
      "needs_background": "light"
     },
     "output_type": "display_data"
    }
   ],
   "source": [
    "plt.plot(cleanData['Price'])"
   ]
  },
  {
   "cell_type": "markdown",
   "metadata": {},
   "source": [
    "# Adding neural net example using LSTM regression and "
   ]
  },
  {
   "cell_type": "code",
   "execution_count": 13,
   "metadata": {},
   "outputs": [],
   "source": [
    "import tensorflow as tf"
   ]
  },
  {
   "cell_type": "code",
   "execution_count": 14,
   "metadata": {},
   "outputs": [
    {
     "ename": "AttributeError",
     "evalue": "module 'tensorflow' has no attribute 'reset_default_graph'",
     "output_type": "error",
     "traceback": [
      "\u001b[0;31m---------------------------------------------------------------------------\u001b[0m",
      "\u001b[0;31mAttributeError\u001b[0m                            Traceback (most recent call last)",
      "\u001b[0;32m<ipython-input-14-1ed295b8fcba>\u001b[0m in \u001b[0;36m<module>\u001b[0;34m\u001b[0m\n\u001b[1;32m     18\u001b[0m \u001b[0;34m\u001b[0m\u001b[0m\n\u001b[1;32m     19\u001b[0m \u001b[0;31m# Clears the default graph stack and resets the global default graph\u001b[0m\u001b[0;34m\u001b[0m\u001b[0;34m\u001b[0m\u001b[0;34m\u001b[0m\u001b[0m\n\u001b[0;32m---> 20\u001b[0;31m \u001b[0mtf\u001b[0m\u001b[0;34m.\u001b[0m\u001b[0mreset_default_graph\u001b[0m\u001b[0;34m(\u001b[0m\u001b[0;34m)\u001b[0m\u001b[0;34m\u001b[0m\u001b[0;34m\u001b[0m\u001b[0m\n\u001b[0m",
      "\u001b[0;31mAttributeError\u001b[0m: module 'tensorflow' has no attribute 'reset_default_graph'"
     ]
    }
   ],
   "source": [
    "# Dimensionality of the data\n",
    "D = 1 \n",
    "\n",
    "# Number of time steps you look into the future \n",
    "num_unrollings = 30 \n",
    "\n",
    "# Number of samples in a batch \n",
    "batch_size = 300 \n",
    "\n",
    "# Number of hidden nodes in each layer \n",
    "num_nodes = [100,100,50] \n",
    "\n",
    "# number of layers \n",
    "n_layers = len(num_nodes) \n",
    "\n",
    "# dropout amount\n",
    "dropout = 0.2 \n",
    "\n",
    "# Clears the default graph stack and resets the global default graph\n",
    "#tf.reset_default_graph()"
   ]
  },
  {
   "cell_type": "code",
   "execution_count": 15,
   "metadata": {},
   "outputs": [
    {
     "ename": "AttributeError",
     "evalue": "module 'tensorflow' has no attribute 'placeholder'",
     "output_type": "error",
     "traceback": [
      "\u001b[0;31m---------------------------------------------------------------------------\u001b[0m",
      "\u001b[0;31mAttributeError\u001b[0m                            Traceback (most recent call last)",
      "\u001b[0;32m<ipython-input-15-e32276443b83>\u001b[0m in \u001b[0;36m<module>\u001b[0;34m\u001b[0m\n\u001b[1;32m      4\u001b[0m \u001b[0;31m# Next you define placeholders for training inputs and labels\u001b[0m\u001b[0;34m\u001b[0m\u001b[0;34m\u001b[0m\u001b[0;34m\u001b[0m\u001b[0m\n\u001b[1;32m      5\u001b[0m \u001b[0;32mfor\u001b[0m \u001b[0mui\u001b[0m \u001b[0;32min\u001b[0m \u001b[0mrange\u001b[0m\u001b[0;34m(\u001b[0m\u001b[0mnum_unrollings\u001b[0m\u001b[0;34m)\u001b[0m\u001b[0;34m:\u001b[0m\u001b[0;34m\u001b[0m\u001b[0;34m\u001b[0m\u001b[0m\n\u001b[0;32m----> 6\u001b[0;31m   \u001b[0mtrain_inputs\u001b[0m\u001b[0;34m.\u001b[0m\u001b[0mappend\u001b[0m\u001b[0;34m(\u001b[0m\u001b[0mtf\u001b[0m\u001b[0;34m.\u001b[0m\u001b[0mplaceholder\u001b[0m\u001b[0;34m(\u001b[0m\u001b[0mtf\u001b[0m\u001b[0;34m.\u001b[0m\u001b[0mfloat32\u001b[0m\u001b[0;34m,\u001b[0m \u001b[0mshape\u001b[0m\u001b[0;34m=\u001b[0m\u001b[0;34m[\u001b[0m\u001b[0mbatch_size\u001b[0m\u001b[0;34m,\u001b[0m\u001b[0mD\u001b[0m\u001b[0;34m]\u001b[0m\u001b[0;34m,\u001b[0m\u001b[0mname\u001b[0m\u001b[0;34m=\u001b[0m\u001b[0;34m'train_inputs_%d'\u001b[0m\u001b[0;34m%\u001b[0m\u001b[0mui\u001b[0m\u001b[0;34m)\u001b[0m\u001b[0;34m)\u001b[0m\u001b[0;34m\u001b[0m\u001b[0;34m\u001b[0m\u001b[0m\n\u001b[0m\u001b[1;32m      7\u001b[0m   \u001b[0mtrain_outputs\u001b[0m\u001b[0;34m.\u001b[0m\u001b[0mappend\u001b[0m\u001b[0;34m(\u001b[0m\u001b[0mtf\u001b[0m\u001b[0;34m.\u001b[0m\u001b[0mplaceholder\u001b[0m\u001b[0;34m(\u001b[0m\u001b[0mtf\u001b[0m\u001b[0;34m.\u001b[0m\u001b[0mfloat32\u001b[0m\u001b[0;34m,\u001b[0m \u001b[0mshape\u001b[0m\u001b[0;34m=\u001b[0m\u001b[0;34m[\u001b[0m\u001b[0mbatch_size\u001b[0m\u001b[0;34m,\u001b[0m\u001b[0;36m1\u001b[0m\u001b[0;34m]\u001b[0m\u001b[0;34m,\u001b[0m \u001b[0mname\u001b[0m \u001b[0;34m=\u001b[0m \u001b[0;34m'train_outputs_%d'\u001b[0m\u001b[0;34m%\u001b[0m\u001b[0mui\u001b[0m\u001b[0;34m)\u001b[0m\u001b[0;34m)\u001b[0m\u001b[0;34m\u001b[0m\u001b[0;34m\u001b[0m\u001b[0m\n",
      "\u001b[0;31mAttributeError\u001b[0m: module 'tensorflow' has no attribute 'placeholder'"
     ]
    }
   ],
   "source": [
    "# Input data \n",
    "train_inputs, train_outputs = [],[] \n",
    "\n",
    "# Next you define placeholders for training inputs and labels\n",
    "for ui in range(num_unrollings):\n",
    "  train_inputs.append(tf.placeholder(tf.float32, shape=[batch_size,D],name='train_inputs_%d'%ui)) \n",
    "  train_outputs.append(tf.placeholder(tf.float32, shape=[batch_size,1], name = 'train_outputs_%d'%ui))"
   ]
  },
  {
   "cell_type": "code",
   "execution_count": 16,
   "metadata": {},
   "outputs": [
    {
     "data": {
      "text/plain": [
       "<module 'tensorflow' from '/Users/rosi/opt/anaconda3/envs/tensorflow-development/lib/python3.7/site-packages/tensorflow/__init__.py'>"
      ]
     },
     "execution_count": 16,
     "metadata": {},
     "output_type": "execute_result"
    }
   ],
   "source": [
    "tf"
   ]
  },
  {
   "cell_type": "code",
   "execution_count": null,
   "metadata": {},
   "outputs": [],
   "source": []
  }
 ],
 "metadata": {
  "kernelspec": {
   "display_name": "Python [conda env:tensorflow-development] *",
   "language": "python",
   "name": "conda-env-tensorflow-development-py"
  },
  "language_info": {
   "codemirror_mode": {
    "name": "ipython",
    "version": 3
   },
   "file_extension": ".py",
   "mimetype": "text/x-python",
   "name": "python",
   "nbconvert_exporter": "python",
   "pygments_lexer": "ipython3",
   "version": "3.7.9"
  }
 },
 "nbformat": 4,
 "nbformat_minor": 4
}
