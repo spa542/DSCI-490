{
 "cells": [
  {
   "cell_type": "markdown",
   "id": "957f8572",
   "metadata": {},
   "source": [
    "# Getting bitcoin price data from investing.com data sheet\n"
   ]
  },
  {
   "cell_type": "code",
   "execution_count": 307,
   "id": "83dd3561",
   "metadata": {},
   "outputs": [],
   "source": [
    "import pandas as pd\n",
    "import matplotlib.pyplot as plt\n",
    "import numpy as np\n",
    "import seaborn as sns\n",
    "import datetime"
   ]
  },
  {
   "cell_type": "code",
   "execution_count": 308,
   "id": "927fbc91",
   "metadata": {},
   "outputs": [
    {
     "name": "stdout",
     "output_type": "stream",
     "text": [
      "               Price      Open      High       Low    Vol. Change %\n",
      "Date                                                               \n",
      "2022-02-15  43,605.3  42,550.3  43,658.8  42,460.1  56.13K    2.48%\n",
      "2022-02-14  42,550.3  42,061.1  42,799.7  41,591.3  53.60K    1.16%\n",
      "2022-02-13  42,061.1  42,205.5  42,725.1  41,880.1  25.88K   -0.34%\n",
      "2022-02-12  42,205.2  42,388.4  43,006.4  41,776.8  37.88K   -0.43%\n",
      "2022-02-11  42,388.4  43,519.3  43,915.1  42,023.4  69.95K   -2.60%\n",
      "...              ...       ...       ...       ...     ...      ...\n",
      "2015-11-19     325.0     335.9     335.6     323.4  86.38K   -3.26%\n",
      "2015-11-18     335.9     333.9     337.4     329.4  78.36K    0.60%\n",
      "2015-11-17     333.9     330.2     342.9     328.1  98.25K    1.12%\n",
      "2015-11-16     330.2     317.5     332.0     314.1  87.14K    4.02%\n",
      "2015-11-15     317.5     331.8     334.8     314.2  88.32K   -4.32%\n",
      "\n",
      "[2285 rows x 6 columns]\n"
     ]
    }
   ],
   "source": [
    "df = pd.read_csv(r'../Datasets/BitcoinData.csv', index_col='Date', parse_dates=True)   #read the csv file (put 'r' before the path string to address any special characters in the path, such as '\\'). Don't forget to put the file name at the end of the path + \".csv\"\n",
    "print(df)"
   ]
  },
  {
   "cell_type": "code",
   "execution_count": 309,
   "id": "f76580f5",
   "metadata": {},
   "outputs": [
    {
     "data": {
      "text/plain": [
       "Price       object\n",
       "Open        object\n",
       "High        object\n",
       "Low         object\n",
       "Vol.        object\n",
       "Change %    object\n",
       "dtype: object"
      ]
     },
     "execution_count": 309,
     "metadata": {},
     "output_type": "execute_result"
    }
   ],
   "source": [
    "df.dtypes"
   ]
  },
  {
   "cell_type": "code",
   "execution_count": 310,
   "id": "264681d1",
   "metadata": {},
   "outputs": [],
   "source": [
    "cleanData = df\n",
    "\n",
    "repl_dict = {'[kK]': '*1e3', '[mM]': '*1e6', '[bB]': '*1e9', }\n",
    "cleanData['Vol.'] = cleanData['Vol.'].replace(repl_dict, regex=True).map(pd.eval).astype(float)\n",
    "\n",
    "cleanData['Price'] = cleanData['Price'].astype(str).str.replace(',', '').astype(float)\n",
    "cleanData['Open'] = cleanData['Open'].astype(str).str.replace(',', '').astype(float)\n",
    "cleanData['High'] = cleanData['High'].astype(str).str.replace(',', '').astype(float)\n",
    "cleanData['Low'] = cleanData['Low'].astype(str).str.replace(',', '').astype(float)\n",
    "cleanData['Change %'] = cleanData['Change %'].astype(str).str.replace('%', '').astype(float)"
   ]
  },
  {
   "cell_type": "code",
   "execution_count": 311,
   "id": "9f8fd427",
   "metadata": {},
   "outputs": [
    {
     "data": {
      "text/html": [
       "<div>\n",
       "<style scoped>\n",
       "    .dataframe tbody tr th:only-of-type {\n",
       "        vertical-align: middle;\n",
       "    }\n",
       "\n",
       "    .dataframe tbody tr th {\n",
       "        vertical-align: top;\n",
       "    }\n",
       "\n",
       "    .dataframe thead th {\n",
       "        text-align: right;\n",
       "    }\n",
       "</style>\n",
       "<table border=\"1\" class=\"dataframe\">\n",
       "  <thead>\n",
       "    <tr style=\"text-align: right;\">\n",
       "      <th></th>\n",
       "      <th>Price</th>\n",
       "      <th>Open</th>\n",
       "      <th>High</th>\n",
       "      <th>Low</th>\n",
       "      <th>Vol.</th>\n",
       "      <th>Change %</th>\n",
       "    </tr>\n",
       "  </thead>\n",
       "  <tbody>\n",
       "    <tr>\n",
       "      <th>count</th>\n",
       "      <td>2285.000000</td>\n",
       "      <td>2285.000000</td>\n",
       "      <td>2285.000000</td>\n",
       "      <td>2285.000000</td>\n",
       "      <td>2.285000e+03</td>\n",
       "      <td>2285.000000</td>\n",
       "    </tr>\n",
       "    <tr>\n",
       "      <th>mean</th>\n",
       "      <td>13303.703720</td>\n",
       "      <td>13284.855011</td>\n",
       "      <td>13662.048709</td>\n",
       "      <td>12862.238293</td>\n",
       "      <td>4.889052e+05</td>\n",
       "      <td>0.293527</td>\n",
       "    </tr>\n",
       "    <tr>\n",
       "      <th>std</th>\n",
       "      <td>16723.975876</td>\n",
       "      <td>16714.244909</td>\n",
       "      <td>17178.001115</td>\n",
       "      <td>16180.627018</td>\n",
       "      <td>1.275485e+06</td>\n",
       "      <td>3.973664</td>\n",
       "    </tr>\n",
       "    <tr>\n",
       "      <th>min</th>\n",
       "      <td>317.500000</td>\n",
       "      <td>317.500000</td>\n",
       "      <td>323.300000</td>\n",
       "      <td>309.500000</td>\n",
       "      <td>2.600000e+02</td>\n",
       "      <td>-39.180000</td>\n",
       "    </tr>\n",
       "    <tr>\n",
       "      <th>25%</th>\n",
       "      <td>2362.400000</td>\n",
       "      <td>2344.000000</td>\n",
       "      <td>2494.000000</td>\n",
       "      <td>2263.300000</td>\n",
       "      <td>6.692000e+04</td>\n",
       "      <td>-1.290000</td>\n",
       "    </tr>\n",
       "    <tr>\n",
       "      <th>50%</th>\n",
       "      <td>7366.700000</td>\n",
       "      <td>7363.800000</td>\n",
       "      <td>7535.600000</td>\n",
       "      <td>7185.700000</td>\n",
       "      <td>1.326000e+05</td>\n",
       "      <td>0.220000</td>\n",
       "    </tr>\n",
       "    <tr>\n",
       "      <th>75%</th>\n",
       "      <td>11506.900000</td>\n",
       "      <td>11503.200000</td>\n",
       "      <td>11823.300000</td>\n",
       "      <td>11226.100000</td>\n",
       "      <td>4.881600e+05</td>\n",
       "      <td>1.910000</td>\n",
       "    </tr>\n",
       "    <tr>\n",
       "      <th>max</th>\n",
       "      <td>67527.900000</td>\n",
       "      <td>67528.700000</td>\n",
       "      <td>68990.600000</td>\n",
       "      <td>66334.900000</td>\n",
       "      <td>2.026000e+07</td>\n",
       "      <td>25.560000</td>\n",
       "    </tr>\n",
       "  </tbody>\n",
       "</table>\n",
       "</div>"
      ],
      "text/plain": [
       "              Price          Open          High           Low          Vol.  \\\n",
       "count   2285.000000   2285.000000   2285.000000   2285.000000  2.285000e+03   \n",
       "mean   13303.703720  13284.855011  13662.048709  12862.238293  4.889052e+05   \n",
       "std    16723.975876  16714.244909  17178.001115  16180.627018  1.275485e+06   \n",
       "min      317.500000    317.500000    323.300000    309.500000  2.600000e+02   \n",
       "25%     2362.400000   2344.000000   2494.000000   2263.300000  6.692000e+04   \n",
       "50%     7366.700000   7363.800000   7535.600000   7185.700000  1.326000e+05   \n",
       "75%    11506.900000  11503.200000  11823.300000  11226.100000  4.881600e+05   \n",
       "max    67527.900000  67528.700000  68990.600000  66334.900000  2.026000e+07   \n",
       "\n",
       "          Change %  \n",
       "count  2285.000000  \n",
       "mean      0.293527  \n",
       "std       3.973664  \n",
       "min     -39.180000  \n",
       "25%      -1.290000  \n",
       "50%       0.220000  \n",
       "75%       1.910000  \n",
       "max      25.560000  "
      ]
     },
     "execution_count": 311,
     "metadata": {},
     "output_type": "execute_result"
    }
   ],
   "source": [
    "cleanData.describe()"
   ]
  },
  {
   "cell_type": "code",
   "execution_count": 312,
   "id": "7932cec5",
   "metadata": {},
   "outputs": [
    {
     "name": "stdout",
     "output_type": "stream",
     "text": [
      "<class 'pandas.core.frame.DataFrame'>\n",
      "DatetimeIndex: 2285 entries, 2022-02-15 to 2015-11-15\n",
      "Data columns (total 6 columns):\n",
      " #   Column    Non-Null Count  Dtype  \n",
      "---  ------    --------------  -----  \n",
      " 0   Price     2285 non-null   float64\n",
      " 1   Open      2285 non-null   float64\n",
      " 2   High      2285 non-null   float64\n",
      " 3   Low       2285 non-null   float64\n",
      " 4   Vol.      2285 non-null   float64\n",
      " 5   Change %  2285 non-null   float64\n",
      "dtypes: float64(6)\n",
      "memory usage: 125.0 KB\n"
     ]
    }
   ],
   "source": [
    "cleanData.info()"
   ]
  },
  {
   "cell_type": "code",
   "execution_count": 313,
   "id": "65b933fd",
   "metadata": {},
   "outputs": [
    {
     "data": {
      "text/html": [
       "<div>\n",
       "<style scoped>\n",
       "    .dataframe tbody tr th:only-of-type {\n",
       "        vertical-align: middle;\n",
       "    }\n",
       "\n",
       "    .dataframe tbody tr th {\n",
       "        vertical-align: top;\n",
       "    }\n",
       "\n",
       "    .dataframe thead th {\n",
       "        text-align: right;\n",
       "    }\n",
       "</style>\n",
       "<table border=\"1\" class=\"dataframe\">\n",
       "  <thead>\n",
       "    <tr style=\"text-align: right;\">\n",
       "      <th></th>\n",
       "      <th>Price</th>\n",
       "      <th>Open</th>\n",
       "      <th>High</th>\n",
       "      <th>Low</th>\n",
       "      <th>Vol.</th>\n",
       "      <th>Change %</th>\n",
       "    </tr>\n",
       "    <tr>\n",
       "      <th>Date</th>\n",
       "      <th></th>\n",
       "      <th></th>\n",
       "      <th></th>\n",
       "      <th></th>\n",
       "      <th></th>\n",
       "      <th></th>\n",
       "    </tr>\n",
       "  </thead>\n",
       "  <tbody>\n",
       "    <tr>\n",
       "      <th>2022-02-15</th>\n",
       "      <td>43605.3</td>\n",
       "      <td>42550.3</td>\n",
       "      <td>43658.8</td>\n",
       "      <td>42460.1</td>\n",
       "      <td>56130.0</td>\n",
       "      <td>2.48</td>\n",
       "    </tr>\n",
       "    <tr>\n",
       "      <th>2022-02-14</th>\n",
       "      <td>42550.3</td>\n",
       "      <td>42061.1</td>\n",
       "      <td>42799.7</td>\n",
       "      <td>41591.3</td>\n",
       "      <td>53600.0</td>\n",
       "      <td>1.16</td>\n",
       "    </tr>\n",
       "    <tr>\n",
       "      <th>2022-02-13</th>\n",
       "      <td>42061.1</td>\n",
       "      <td>42205.5</td>\n",
       "      <td>42725.1</td>\n",
       "      <td>41880.1</td>\n",
       "      <td>25880.0</td>\n",
       "      <td>-0.34</td>\n",
       "    </tr>\n",
       "    <tr>\n",
       "      <th>2022-02-12</th>\n",
       "      <td>42205.2</td>\n",
       "      <td>42388.4</td>\n",
       "      <td>43006.4</td>\n",
       "      <td>41776.8</td>\n",
       "      <td>37880.0</td>\n",
       "      <td>-0.43</td>\n",
       "    </tr>\n",
       "    <tr>\n",
       "      <th>2022-02-11</th>\n",
       "      <td>42388.4</td>\n",
       "      <td>43519.3</td>\n",
       "      <td>43915.1</td>\n",
       "      <td>42023.4</td>\n",
       "      <td>69950.0</td>\n",
       "      <td>-2.60</td>\n",
       "    </tr>\n",
       "  </tbody>\n",
       "</table>\n",
       "</div>"
      ],
      "text/plain": [
       "              Price     Open     High      Low     Vol.  Change %\n",
       "Date                                                             \n",
       "2022-02-15  43605.3  42550.3  43658.8  42460.1  56130.0      2.48\n",
       "2022-02-14  42550.3  42061.1  42799.7  41591.3  53600.0      1.16\n",
       "2022-02-13  42061.1  42205.5  42725.1  41880.1  25880.0     -0.34\n",
       "2022-02-12  42205.2  42388.4  43006.4  41776.8  37880.0     -0.43\n",
       "2022-02-11  42388.4  43519.3  43915.1  42023.4  69950.0     -2.60"
      ]
     },
     "execution_count": 313,
     "metadata": {},
     "output_type": "execute_result"
    }
   ],
   "source": [
    "cleanData.head()"
   ]
  },
  {
   "cell_type": "code",
   "execution_count": 314,
   "id": "15075303",
   "metadata": {
    "scrolled": true
   },
   "outputs": [
    {
     "data": {
      "image/png": "[encoded data removed]",
      "text/plain": [
       "<Figure size 432x288 with 1 Axes>"
      ]
     },
     "metadata": {
      "needs_background": "light"
     },
     "output_type": "display_data"
    }
   ],
   "source": [
    "plt.plot(cleanData.Price)\n",
    "plt.title('Bitcoin Price Over Time')\n",
    "plt.xlabel('Date')\n",
    "plt.ylabel('Price')\n",
    "plt.show()"
   ]
  },
  {
   "cell_type": "markdown",
   "id": "72711b8f",
   "metadata": {},
   "source": [
    "# Data splitting "
   ]
  },
  {
   "cell_type": "code",
   "execution_count": 315,
   "id": "9b48f1a3",
   "metadata": {},
   "outputs": [
    {
     "data": {
      "text/plain": [
       "((2285, 6), (2285,))"
      ]
     },
     "execution_count": 315,
     "metadata": {},
     "output_type": "execute_result"
    }
   ],
   "source": [
    "# Our predictors will consist of everything but the price\n",
    "# The target y, will be the values of price, the predictors will be the dataframe without the Price column\n",
    "# X, Y = cleanData.drop(columns=['Price']), cleanData['Change %']\n",
    "\n",
    "X, Y = cleanData, cleanData['Change %']\n",
    "X.shape, Y.shape"
   ]
  },
  {
   "cell_type": "markdown",
   "id": "cee9a559",
   "metadata": {},
   "source": [
    "## NN preping"
   ]
  },
  {
   "cell_type": "code",
   "execution_count": 316,
   "id": "7db65ad9",
   "metadata": {},
   "outputs": [],
   "source": [
    "### Training size\n",
    "trainStart = datetime.datetime(2015, 11, 17)#Start date of training\n",
    "numOfDays = 2085 #Number of days that will be used to train\n",
    "trainEnd = trainStart+datetime.timedelta(days=numOfDays)\n",
    "\n",
    "LastDate = cleanData.iloc[[0]].index[0]\n",
    "\n",
    "### Testing size\n",
    "testEnd = cleanData.iloc[[0]].index[0]\n",
    "daysOut = 50 # predict n days out\n",
    "testStart = LastDate - datetime.timedelta(days=daysOut)\n",
    "\n",
    "# Makes sure these don't overlap"
   ]
  },
  {
   "cell_type": "code",
   "execution_count": 317,
   "id": "b5dbe167",
   "metadata": {},
   "outputs": [
    {
     "data": {
      "text/plain": [
       "Timestamp('2022-02-15 00:00:00')"
      ]
     },
     "execution_count": 317,
     "metadata": {},
     "output_type": "execute_result"
    }
   ],
   "source": [
    "cleanData.iloc[[0]].index[0]"
   ]
  },
  {
   "cell_type": "code",
   "execution_count": 318,
   "id": "44f2b3a4",
   "metadata": {},
   "outputs": [],
   "source": [
    "trainDatadf = X#X[X.index>=trainStart]\n",
    "trainDatadf = trainDatadf[trainDatadf.index<trainEnd]\n",
    "\n",
    "trainAnswersdf = Y[Y.index>=trainStart]\n",
    "trainAnswersdf = trainAnswersdf[trainAnswersdf.index<trainEnd]"
   ]
  },
  {
   "cell_type": "code",
   "execution_count": 319,
   "id": "195ca805",
   "metadata": {},
   "outputs": [],
   "source": [
    "testDatadf = X[X.index>=testStart]\n",
    "testDatadf = testDatadf[testDatadf.index<testEnd]\n",
    "\n",
    "testAnswersdf = Y[Y.index>=testStart]\n",
    "testAnswersdf = testAnswersdf[testAnswersdf.index<testEnd]"
   ]
  },
  {
   "cell_type": "code",
   "execution_count": 320,
   "id": "742311b5",
   "metadata": {},
   "outputs": [],
   "source": [
    "from nn import *\n",
    "import numpy\n",
    "\n",
    "trainDatadf.reset_index(drop=True, inplace=True)\n",
    "trainAnswersdf.reset_index(drop=True, inplace=True)\n",
    "testDatadf.reset_index(drop=True, inplace=True)\n",
    "testAnswersdf.reset_index(drop=True, inplace=True)\n",
    "\n",
    "trainData = trainDatadf.to_numpy()\n",
    "# trainAnswer = trainAnswersdf.to_numpy()\n",
    "testData = testDatadf.to_numpy()\n",
    "# testAnswer = testAnswersdf.to_numpy()"
   ]
  },
  {
   "cell_type": "code",
   "execution_count": 321,
   "id": "26e82c2e",
   "metadata": {},
   "outputs": [],
   "source": [
    "trainAnswer=np.zeros((len(trainData), 3))\n",
    "for i in range(len(trainData)):\n",
    "    if trainDatadf['Change %'][i] == 0:\n",
    "        trainAnswer[i][1] = 1\n",
    "        continue\n",
    "    elif trainDatadf['Change %'][i] > 0:\n",
    "        trainAnswer[i][0] = 1\n",
    "        continue \n",
    "    elif trainDatadf['Change %'][i] < 0:\n",
    "        trainAnswer[i][2] = 1\n",
    "        continue\n",
    "    \n",
    "    \n",
    "testAnswer=np.zeros((len(testDatadf), 3))\n",
    "for i in range(len(testDatadf)):\n",
    "    if testDatadf['Change %'][i] == 0:\n",
    "        testAnswer[i][1] = 1\n",
    "        continue\n",
    "    elif testDatadf['Change %'][i] > 0:\n",
    "        testAnswer[i][0] = 1\n",
    "        continue \n",
    "    elif testDatadf['Change %'][i] < 0:\n",
    "        testAnswer[i][2] = 1\n",
    "        continue"
   ]
  },
  {
   "cell_type": "code",
   "execution_count": null,
   "id": "196a0a0c",
   "metadata": {},
   "outputs": [],
   "source": []
  },
  {
   "cell_type": "code",
   "execution_count": null,
   "id": "04e0c5ac",
   "metadata": {},
   "outputs": [],
   "source": []
  },
  {
   "cell_type": "code",
   "execution_count": 322,
   "id": "1604ad0c",
   "metadata": {},
   "outputs": [
    {
     "data": {
      "text/plain": [
       "((2087, 6), (2087, 3))"
      ]
     },
     "execution_count": 322,
     "metadata": {},
     "output_type": "execute_result"
    }
   ],
   "source": [
    "trainData.shape, trainAnswer.shape"
   ]
  },
  {
   "cell_type": "code",
   "execution_count": 323,
   "id": "93a94ce6",
   "metadata": {},
   "outputs": [],
   "source": [
    "# The dimensionality of the input data\n",
    "# self.dim = d\n",
    "dim = len(trainDatadf.columns)\n",
    "# The number of hidden layers\n",
    "# self.num_layers = nl\n",
    "nl = 5\n",
    "# The size of each hidden layer\n",
    "# self.layer_size = ls\n",
    "ls = 10\n",
    "# The step size used in gradient descent\n",
    "# self.rate = r\n",
    "# self.bias = b\n",
    "r = .1\n",
    "b = True\n",
    "#dim of the outputted vector\n",
    "# self.outDim = out\n",
    "outDim = 3 #Up, Same, or Down\n",
    "\n",
    "\n",
    "fred = NN(dim, nl, ls, r, b, outDim)"
   ]
  },
  {
   "cell_type": "code",
   "execution_count": 324,
   "id": "082878f4",
   "metadata": {},
   "outputs": [],
   "source": [
    "fred.reset()"
   ]
  },
  {
   "cell_type": "code",
   "execution_count": 325,
   "id": "f68fe7b3",
   "metadata": {},
   "outputs": [
    {
     "name": "stderr",
     "output_type": "stream",
     "text": [
      "/home/dawsboss/GitHub/DSCI490/src/nn.py:81: RuntimeWarning: overflow encountered in exp\n",
      "  arr.astype('float128')\n"
     ]
    },
    {
     "name": "stdout",
     "output_type": "stream",
     "text": [
      "Current loss: 1042.9404117159422\n"
     ]
    },
    {
     "data": {
      "text/plain": [
       "1042.9404117159422"
      ]
     },
     "execution_count": 325,
     "metadata": {},
     "output_type": "execute_result"
    }
   ],
   "source": [
    "fred.train_rounds(trainData, trainAnswer, 100)"
   ]
  },
  {
   "cell_type": "code",
   "execution_count": 326,
   "id": "6ba417d3",
   "metadata": {},
   "outputs": [
    {
     "name": "stdout",
     "output_type": "stream",
     "text": [
      "Current loss: 1042.9649225993658\n"
     ]
    },
    {
     "data": {
      "text/plain": [
       "1042.9649225993658"
      ]
     },
     "execution_count": 326,
     "metadata": {},
     "output_type": "execute_result"
    }
   ],
   "source": [
    "fred.train_rounds(trainData, trainAnswer, 1000)"
   ]
  },
  {
   "cell_type": "code",
   "execution_count": 327,
   "id": "5e6385b6",
   "metadata": {},
   "outputs": [
    {
     "name": "stdout",
     "output_type": "stream",
     "text": [
      "[4.25503e+04 4.20611e+04 4.27997e+04 4.15913e+04 5.36000e+04 1.16000e+00] | [1. 0. 0.] => Up\n"
     ]
    }
   ],
   "source": [
    "t = fred.predict(testData[0], testAnswer[0], [\"Up\",\"Same\",\"Down\"])\n",
    "print(f'{testData[0]} | {testAnswer[0]} => {t}')"
   ]
  },
  {
   "cell_type": "code",
   "execution_count": 328,
   "id": "cc633a82",
   "metadata": {},
   "outputs": [
    {
     "name": "stdout",
     "output_type": "stream",
     "text": [
      " | [1. 0. 0.] => Up\n",
      " | [0. 0. 1.] => Up\n",
      " | [0. 0. 1.] => Up\n",
      " | [0. 0. 1.] => Up\n",
      " | [0. 0. 1.] => Up\n",
      " | [1. 0. 0.] => Up\n",
      " | [1. 0. 0.] => Up\n",
      " | [1. 0. 0.] => Up\n",
      " | [1. 0. 0.] => Up\n",
      " | [0. 0. 1.] => Up\n",
      " | [1. 0. 0.] => Up\n",
      " | [1. 0. 0.] => Up\n",
      " | [0. 0. 1.] => Up\n",
      " | [1. 0. 0.] => Up\n",
      " | [1. 0. 0.] => Up\n",
      " | [0. 0. 1.] => Up\n",
      " | [1. 0. 0.] => Up\n",
      " | [1. 0. 0.] => Up\n",
      " | [1. 0. 0.] => Up\n",
      " | [0. 0. 1.] => Up\n",
      " | [1. 0. 0.] => Up\n",
      " | [1. 0. 0.] => Up\n",
      " | [1. 0. 0.] => Up\n",
      " | [0. 0. 1.] => Up\n",
      " | [0. 0. 1.] => Up\n",
      " | [0. 0. 1.] => Up\n",
      " | [0. 0. 1.] => Up\n",
      " | [1. 0. 0.] => Up\n",
      " | [0. 0. 1.] => Up\n",
      " | [0. 0. 1.] => Up\n",
      " | [1. 0. 0.] => Up\n",
      " | [1. 0. 0.] => Up\n",
      " | [0. 0. 1.] => Up\n",
      " | [1. 0. 0.] => Up\n",
      " | [1. 0. 0.] => Up\n",
      " | [0. 0. 1.] => Up\n",
      " | [1. 0. 0.] => Up\n",
      " | [1. 0. 0.] => Up\n",
      " | [0. 0. 1.] => Up\n",
      " | [0. 0. 1.] => Up\n",
      " | [0. 0. 1.] => Up\n",
      " | [0. 0. 1.] => Up\n",
      " | [0. 0. 1.] => Up\n",
      " | [0. 0. 1.] => Up\n",
      " | [1. 0. 0.] => Up\n",
      " | [0. 0. 1.] => Up\n",
      " | [1. 0. 0.] => Up\n",
      " | [0. 0. 1.] => Up\n",
      " | [0. 0. 1.] => Up\n",
      " | [0. 0. 1.] => Up\n"
     ]
    }
   ],
   "source": [
    "##[Up, Same, Down]\n",
    "\n",
    "for i in range(len(testData)):\n",
    "    t = fred.predict(testData[i], testAnswer[i], [\"Up\",\"Same\",\"Down\"])\n",
    "    print(f' | {testAnswer[i]} => {t}')"
   ]
  },
  {
   "cell_type": "code",
   "execution_count": null,
   "id": "fececa4f",
   "metadata": {},
   "outputs": [],
   "source": []
  }
 ],
 "metadata": {
  "kernelspec": {
   "display_name": "Python 3 (ipykernel)",
   "language": "python",
   "name": "python3"
  },
  "language_info": {
   "codemirror_mode": {
    "name": "ipython",
    "version": 3
   },
   "file_extension": ".py",
   "mimetype": "text/x-python",
   "name": "python",
   "nbconvert_exporter": "python",
   "pygments_lexer": "ipython3",
   "version": "3.9.7"
  }
 },
 "nbformat": 4,
 "nbformat_minor": 5
}
