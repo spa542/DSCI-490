{
 "cells": [
  {
   "cell_type": "code",
   "execution_count": null,
   "id": "faee4bd8",
   "metadata": {},
   "outputs": [],
   "source": []
  },
  {
   "cell_type": "code",
   "execution_count": 5,
   "id": "aa8468a5",
   "metadata": {},
   "outputs": [],
   "source": [
    "from nn import *\n",
    "import numpy as np"
   ]
  },
  {
   "cell_type": "code",
   "execution_count": 36,
   "id": "ba50f2c2",
   "metadata": {},
   "outputs": [],
   "source": [
    "\"\"\"\n",
    "Hard-code more points, or adjust as needed.\n",
    "Check to make sure the structure matches the assumptions above\n",
    "\"\"\"\n",
    "\n",
    "# Input data, linearly separable classes\n",
    "# Even for this setup, the network can have a tough time getting a good model!\n",
    "# Sometimes you can even hit a \"local\" minimum where more training doesn't help,\n",
    "# we need to perturb things a bit or get more data.\n",
    "X = np.array(\n",
    "    [\n",
    "        [ 0.2, 2.2 ],\n",
    "        [ -1.9, -0.3],\n",
    "        [ 1, -1],\n",
    "#         [ -1, 1]\n",
    "    ]\n",
    ")\n",
    "\n",
    "# The labels\n",
    "Y = np.array([1, 1, -1])\n",
    "\n",
    "epochs = 1000\n",
    "\n",
    "# To run and get updated weights:\n",
    "# w_in, w_out, w_hidden = train_rounds(X, Y, epochs, w_in, w_out, w_hidden)"
   ]
  },
  {
   "cell_type": "code",
   "execution_count": 50,
   "id": "16a48941",
   "metadata": {},
   "outputs": [],
   "source": [
    "test = NN(2, 1,2,  .1, False, len(X))"
   ]
  },
  {
   "cell_type": "code",
   "execution_count": 51,
   "id": "4a949704",
   "metadata": {},
   "outputs": [],
   "source": [
    "# w_in, w_hidden, w_out = nn.reset()\n",
    "test.reset()"
   ]
  },
  {
   "cell_type": "code",
   "execution_count": 52,
   "id": "4db36dbd",
   "metadata": {},
   "outputs": [
    {
     "name": "stdout",
     "output_type": "stream",
     "text": [
      "Current loss: 7.202024207022076\n"
     ]
    },
    {
     "data": {
      "text/plain": [
       "7.202024207022076"
      ]
     },
     "execution_count": 52,
     "metadata": {},
     "output_type": "execute_result"
    }
   ],
   "source": [
    "# w_in, w_out, w_hidden = train_rounds(X, Y, 1, w_in, w_out, w_hidden)\n",
    "test.train_rounds(X, Y, 100)"
   ]
  },
  {
   "cell_type": "code",
   "execution_count": 53,
   "id": "64f03f7f",
   "metadata": {},
   "outputs": [
    {
     "name": "stdout",
     "output_type": "stream",
     "text": [
      "Current loss: 5.7148667183889055\n"
     ]
    },
    {
     "data": {
      "text/plain": [
       "5.7148667183889055"
      ]
     },
     "execution_count": 53,
     "metadata": {},
     "output_type": "execute_result"
    }
   ],
   "source": [
    "test.train_rounds(X, Y, 10000)"
   ]
  },
  {
   "cell_type": "code",
   "execution_count": null,
   "id": "3e514299",
   "metadata": {},
   "outputs": [],
   "source": []
  },
  {
   "cell_type": "code",
   "execution_count": null,
   "id": "c91c51e6",
   "metadata": {},
   "outputs": [],
   "source": []
  }
 ],
 "metadata": {
  "kernelspec": {
   "display_name": "Python 3 (ipykernel)",
   "language": "python",
   "name": "python3"
  },
  "language_info": {
   "codemirror_mode": {
    "name": "ipython",
    "version": 3
   },
   "file_extension": ".py",
   "mimetype": "text/x-python",
   "name": "python",
   "nbconvert_exporter": "python",
   "pygments_lexer": "ipython3",
   "version": "3.9.7"
  }
 },
 "nbformat": 4,
 "nbformat_minor": 5
}
